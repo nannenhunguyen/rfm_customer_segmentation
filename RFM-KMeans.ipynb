{
 "cells": [
  {
   "cell_type": "markdown",
   "id": "154d8aef",
   "metadata": {},
   "source": [
    "We have a data of customer, and metrics show their performance in sales and engagement (add to cart) \n",
    "\n",
    "**Business Target** \n",
    "   Segment customers that have the same performance (highest, medium, lowest) for trial program offering \n",
    "  \n",
    "**General Idea** \n",
    "   Clustering each dimensions by K-Means and score each cluster. After that, sum of all score to define total score of each customer. "
   ]
  },
  {
   "cell_type": "code",
   "execution_count": 70,
   "id": "c117ba6a",
   "metadata": {},
   "outputs": [],
   "source": [
    "import pandas as pd\n",
    "import numpy as np\n",
    "import matplotlib.pyplot as plt\n",
    "import seaborn as sns"
   ]
  },
  {
   "cell_type": "markdown",
   "id": "eb68fc69-d781-4b1b-bf6c-503f25fb2100",
   "metadata": {},
   "source": [
    "#### Part A: Segment Customers"
   ]
  },
  {
   "cell_type": "code",
   "execution_count": 71,
   "id": "686a9a31",
   "metadata": {},
   "outputs": [
    {
     "data": {
      "text/html": [
       "<div>\n",
       "<style scoped>\n",
       "    .dataframe tbody tr th:only-of-type {\n",
       "        vertical-align: middle;\n",
       "    }\n",
       "\n",
       "    .dataframe tbody tr th {\n",
       "        vertical-align: top;\n",
       "    }\n",
       "\n",
       "    .dataframe thead th {\n",
       "        text-align: right;\n",
       "    }\n",
       "</style>\n",
       "<table border=\"1\" class=\"dataframe\">\n",
       "  <thead>\n",
       "    <tr style=\"text-align: right;\">\n",
       "      <th></th>\n",
       "      <th>frontend_id</th>\n",
       "      <th>backend_id</th>\n",
       "      <th>frequency_sales</th>\n",
       "      <th>frequency_add</th>\n",
       "      <th>recency</th>\n",
       "      <th>nmv</th>\n",
       "    </tr>\n",
       "  </thead>\n",
       "  <tbody>\n",
       "    <tr>\n",
       "      <th>count</th>\n",
       "      <td>1.785700e+04</td>\n",
       "      <td>1.785700e+04</td>\n",
       "      <td>17857.000000</td>\n",
       "      <td>17857.000000</td>\n",
       "      <td>17857.000000</td>\n",
       "      <td>1.785700e+04</td>\n",
       "    </tr>\n",
       "    <tr>\n",
       "      <th>mean</th>\n",
       "      <td>6.593495e+06</td>\n",
       "      <td>4.847783e+06</td>\n",
       "      <td>5.074929</td>\n",
       "      <td>34.292602</td>\n",
       "      <td>5.360083</td>\n",
       "      <td>3.704053e+06</td>\n",
       "    </tr>\n",
       "    <tr>\n",
       "      <th>std</th>\n",
       "      <td>5.519320e+06</td>\n",
       "      <td>4.397933e+06</td>\n",
       "      <td>7.664240</td>\n",
       "      <td>13.121542</td>\n",
       "      <td>4.961335</td>\n",
       "      <td>7.408944e+06</td>\n",
       "    </tr>\n",
       "    <tr>\n",
       "      <th>min</th>\n",
       "      <td>1.280000e+02</td>\n",
       "      <td>1.280000e+02</td>\n",
       "      <td>0.000000</td>\n",
       "      <td>20.000000</td>\n",
       "      <td>1.000000</td>\n",
       "      <td>0.000000e+00</td>\n",
       "    </tr>\n",
       "    <tr>\n",
       "      <th>25%</th>\n",
       "      <td>1.160799e+06</td>\n",
       "      <td>1.160796e+06</td>\n",
       "      <td>1.000000</td>\n",
       "      <td>24.000000</td>\n",
       "      <td>2.000000</td>\n",
       "      <td>3.120000e+05</td>\n",
       "    </tr>\n",
       "    <tr>\n",
       "      <th>50%</th>\n",
       "      <td>6.267402e+06</td>\n",
       "      <td>3.423623e+06</td>\n",
       "      <td>3.000000</td>\n",
       "      <td>31.000000</td>\n",
       "      <td>4.000000</td>\n",
       "      <td>1.527000e+06</td>\n",
       "    </tr>\n",
       "    <tr>\n",
       "      <th>75%</th>\n",
       "      <td>1.064650e+07</td>\n",
       "      <td>7.773393e+06</td>\n",
       "      <td>7.000000</td>\n",
       "      <td>41.000000</td>\n",
       "      <td>7.000000</td>\n",
       "      <td>3.889000e+06</td>\n",
       "    </tr>\n",
       "    <tr>\n",
       "      <th>max</th>\n",
       "      <td>1.890549e+07</td>\n",
       "      <td>1.587951e+07</td>\n",
       "      <td>257.000000</td>\n",
       "      <td>120.000000</td>\n",
       "      <td>44.000000</td>\n",
       "      <td>2.009899e+08</td>\n",
       "    </tr>\n",
       "  </tbody>\n",
       "</table>\n",
       "</div>"
      ],
      "text/plain": [
       "        frontend_id    backend_id  frequency_sales  frequency_add  \\\n",
       "count  1.785700e+04  1.785700e+04     17857.000000   17857.000000   \n",
       "mean   6.593495e+06  4.847783e+06         5.074929      34.292602   \n",
       "std    5.519320e+06  4.397933e+06         7.664240      13.121542   \n",
       "min    1.280000e+02  1.280000e+02         0.000000      20.000000   \n",
       "25%    1.160799e+06  1.160796e+06         1.000000      24.000000   \n",
       "50%    6.267402e+06  3.423623e+06         3.000000      31.000000   \n",
       "75%    1.064650e+07  7.773393e+06         7.000000      41.000000   \n",
       "max    1.890549e+07  1.587951e+07       257.000000     120.000000   \n",
       "\n",
       "            recency           nmv  \n",
       "count  17857.000000  1.785700e+04  \n",
       "mean       5.360083  3.704053e+06  \n",
       "std        4.961335  7.408944e+06  \n",
       "min        1.000000  0.000000e+00  \n",
       "25%        2.000000  3.120000e+05  \n",
       "50%        4.000000  1.527000e+06  \n",
       "75%        7.000000  3.889000e+06  \n",
       "max       44.000000  2.009899e+08  "
      ]
     },
     "execution_count": 71,
     "metadata": {},
     "output_type": "execute_result"
    }
   ],
   "source": [
    "df = pd.read_csv('/Users/nguyenngockimnhu/Documents/Model Exercise/RFM_Customer Segmentation/RFM_customers_data.csv')\n",
    "df.describe()"
   ]
  },
  {
   "cell_type": "code",
   "execution_count": 72,
   "id": "aae31ff8",
   "metadata": {},
   "outputs": [
    {
     "data": {
      "text/plain": [
       "0        11463743\n",
       "1         4635487\n",
       "2         5571657\n",
       "3         4212346\n",
       "4          882104\n",
       "           ...   \n",
       "17852     4218783\n",
       "17853     9162357\n",
       "17854     2774615\n",
       "17855     4369541\n",
       "17856    14515828\n",
       "Name: backend_id, Length: 17857, dtype: int64"
      ]
     },
     "execution_count": 72,
     "metadata": {},
     "output_type": "execute_result"
    }
   ],
   "source": [
    "df.pop('backend_id')"
   ]
  },
  {
   "cell_type": "code",
   "execution_count": 73,
   "id": "feccc76e",
   "metadata": {},
   "outputs": [
    {
     "name": "stdout",
     "output_type": "stream",
     "text": [
      "<class 'pandas.core.frame.DataFrame'>\n",
      "RangeIndex: 17857 entries, 0 to 17856\n",
      "Data columns (total 5 columns):\n",
      " #   Column           Non-Null Count  Dtype  \n",
      "---  ------           --------------  -----  \n",
      " 0   frontend_id      17857 non-null  int64  \n",
      " 1   frequency_sales  17857 non-null  int64  \n",
      " 2   frequency_add    17857 non-null  int64  \n",
      " 3   recency          17857 non-null  int64  \n",
      " 4   nmv              17857 non-null  float64\n",
      "dtypes: float64(1), int64(4)\n",
      "memory usage: 697.7 KB\n"
     ]
    }
   ],
   "source": [
    "#There is no null value in each column. \n",
    "df.info()"
   ]
  },
  {
   "cell_type": "markdown",
   "id": "eef1388d",
   "metadata": {},
   "source": [
    "**Step 1: Preprocess and visualize data**"
   ]
  },
  {
   "cell_type": "code",
   "execution_count": 74,
   "id": "c049744e",
   "metadata": {},
   "outputs": [
    {
     "data": {
      "text/plain": [
       "frontend_id        0\n",
       "frequency_sales    0\n",
       "frequency_add      0\n",
       "recency            0\n",
       "nmv                0\n",
       "dtype: int64"
      ]
     },
     "execution_count": 74,
     "metadata": {},
     "output_type": "execute_result"
    }
   ],
   "source": [
    "df.isnull().sum()"
   ]
  },
  {
   "cell_type": "code",
   "execution_count": 75,
   "id": "5b7c0e57",
   "metadata": {},
   "outputs": [
    {
     "data": {
      "image/png": "[encoded data removed]",
      "text/plain": [
       "<Figure size 1440x1080 with 1 Axes>"
      ]
     },
     "metadata": {
      "needs_background": "light"
     },
     "output_type": "display_data"
    },
    {
     "data": {
      "image/png": "[encoded data removed]",
      "text/plain": [
       "<Figure size 1440x1080 with 1 Axes>"
      ]
     },
     "metadata": {
      "needs_background": "light"
     },
     "output_type": "display_data"
    },
    {
     "data": {
      "image/png": "[encoded data removed]",
      "text/plain": [
       "<Figure size 1440x1080 with 1 Axes>"
      ]
     },
     "metadata": {
      "needs_background": "light"
     },
     "output_type": "display_data"
    },
    {
     "data": {
      "image/png": "[encoded data removed]",
      "text/plain": [
       "<Figure size 1440x1080 with 1 Axes>"
      ]
     },
     "metadata": {
      "needs_background": "light"
     },
     "output_type": "display_data"
    }
   ],
   "source": [
    "# Visualize numberic data: \n",
    "\n",
    "def visualize_boxplot(column,fig): \n",
    "    plt.figure(figsize = (20,15))\n",
    "    plt.subplot(4,2,fig)\n",
    "    plt.title(column+' Boxplot Histogram')\n",
    "    sns.boxplot(df[column],palette='magma')\n",
    "\n",
    "    \n",
    "visualize_boxplot('frequency_sales',1)\n",
    "visualize_boxplot('frequency_add',2)\n",
    "visualize_boxplot('recency',3)\n",
    "visualize_boxplot('nmv',4)"
   ]
  },
  {
   "cell_type": "markdown",
   "id": "32dea9aa",
   "metadata": {},
   "source": [
    "**Comments:**\n",
    "- Seems that each dimension has many outliers, because we get data of all customers who maybe have add to carts but not sales. \n",
    "- We will not remove outliers, since we score each customer_id based on their performance. If we remove, we will missing many customers and the clustering will be underrated "
   ]
  },
  {
   "cell_type": "markdown",
   "id": "c974748b",
   "metadata": {},
   "source": [
    "**Step 2: Apply K-Means model**"
   ]
  },
  {
   "cell_type": "code",
   "execution_count": 76,
   "id": "72525205",
   "metadata": {},
   "outputs": [],
   "source": [
    "from sklearn.model_selection import train_test_split\n",
    "from sklearn.cluster import KMeans\n",
    "import warnings\n",
    "warnings.filterwarnings('ignore')\n",
    "\n"
   ]
  },
  {
   "cell_type": "markdown",
   "id": "d09d75e5-4d7f-4a36-9d5b-e281f3059e36",
   "metadata": {},
   "source": [
    "1. Choosing K for model"
   ]
  },
  {
   "cell_type": "code",
   "execution_count": 77,
   "id": "63c69534",
   "metadata": {},
   "outputs": [],
   "source": [
    "# We try and apply each value of K in the model, and calculate the SSE (inertia_) at that K. \n",
    "# Then we visualize and decide which K is potential based on the Elbow method. \n",
    "\n",
    "def chose_k(feature): \n",
    "    sse={}\n",
    "    df_main = df[[feature]]\n",
    "    for k in range(1,10):\n",
    "        k_mean = KMeans(n_clusters=k,init=\"k-means++\",max_iter=1000).fit(df_main)\n",
    "        df_main['cluster']= k_mean.labels_ \n",
    "        sse[k]=k_mean.inertia_    \n",
    "    plt.figure(figsize=(8,3))\n",
    "    plt.plot(list(sse.keys()),list(sse.values()))\n",
    "    plt.xlabel(feature+' Number of cluster')\n",
    "    \n",
    "    plt.show()"
   ]
  },
  {
   "cell_type": "code",
   "execution_count": 78,
   "id": "9c14e39d",
   "metadata": {},
   "outputs": [
    {
     "data": {
      "image/png": "[encoded data removed]",
      "text/plain": [
       "<Figure size 576x216 with 1 Axes>"
      ]
     },
     "metadata": {
      "needs_background": "light"
     },
     "output_type": "display_data"
    },
    {
     "data": {
      "image/png": "[encoded data removed]",
      "text/plain": [
       "<Figure size 576x216 with 1 Axes>"
      ]
     },
     "metadata": {
      "needs_background": "light"
     },
     "output_type": "display_data"
    },
    {
     "data": {
      "image/png": "[encoded data removed]",
      "text/plain": [
       "<Figure size 576x216 with 1 Axes>"
      ]
     },
     "metadata": {
      "needs_background": "light"
     },
     "output_type": "display_data"
    },
    {
     "data": {
      "image/png": "[encoded data removed]",
      "text/plain": [
       "<Figure size 576x216 with 1 Axes>"
      ]
     },
     "metadata": {
      "needs_background": "light"
     },
     "output_type": "display_data"
    }
   ],
   "source": [
    "chose_k('frequency_sales')\n",
    "chose_k('frequency_add')\n",
    "chose_k('recency')\n",
    "chose_k('nmv')"
   ]
  },
  {
   "cell_type": "markdown",
   "id": "e4c5a1bb-795b-49cd-8438-53f142fb5a55",
   "metadata": {},
   "source": [
    "**Comments:** \n",
    "\n",
    "Base on the Elbow method, we will choose the K for each feature as below: \n",
    "- Frequency_sales: k = 5\n",
    "- Frequency_add: k = 5 \n",
    "- Recency: k = 5\n",
    "- NMV: k = 5"
   ]
  },
  {
   "cell_type": "markdown",
   "id": "f9c92203-91e4-4f1c-bda1-6307f072a81f",
   "metadata": {},
   "source": [
    "2. Apply K-Means with K=5 to all feature"
   ]
  },
  {
   "cell_type": "code",
   "execution_count": 79,
   "id": "a8587c30-d423-450b-90e4-49a080fe9669",
   "metadata": {},
   "outputs": [],
   "source": [
    "def apply_model(feature):\n",
    "    k_means= KMeans(n_clusters = 5, init = 'k-means++')\n",
    "    df[feature+' cluster'] = k_means.fit_predict (df[[feature]])"
   ]
  },
  {
   "cell_type": "code",
   "execution_count": 80,
   "id": "46e1229d-0b02-402c-a142-8a98716e1e99",
   "metadata": {},
   "outputs": [],
   "source": [
    "apply_model('frequency_sales')\n",
    "apply_model('frequency_add')\n",
    "apply_model('recency')\n",
    "apply_model('nmv')"
   ]
  },
  {
   "cell_type": "code",
   "execution_count": 81,
   "id": "51887886-48ce-46d5-b15d-fda35ca39869",
   "metadata": {},
   "outputs": [
    {
     "data": {
      "text/html": [
       "<div>\n",
       "<style scoped>\n",
       "    .dataframe tbody tr th:only-of-type {\n",
       "        vertical-align: middle;\n",
       "    }\n",
       "\n",
       "    .dataframe tbody tr th {\n",
       "        vertical-align: top;\n",
       "    }\n",
       "\n",
       "    .dataframe thead th {\n",
       "        text-align: right;\n",
       "    }\n",
       "</style>\n",
       "<table border=\"1\" class=\"dataframe\">\n",
       "  <thead>\n",
       "    <tr style=\"text-align: right;\">\n",
       "      <th></th>\n",
       "      <th>frontend_id</th>\n",
       "      <th>frequency_sales</th>\n",
       "      <th>frequency_add</th>\n",
       "      <th>recency</th>\n",
       "      <th>nmv</th>\n",
       "      <th>frequency_sales cluster</th>\n",
       "      <th>frequency_add cluster</th>\n",
       "      <th>recency cluster</th>\n",
       "      <th>nmv cluster</th>\n",
       "    </tr>\n",
       "  </thead>\n",
       "  <tbody>\n",
       "    <tr>\n",
       "      <th>0</th>\n",
       "      <td>14341885</td>\n",
       "      <td>0</td>\n",
       "      <td>36</td>\n",
       "      <td>6</td>\n",
       "      <td>0.0</td>\n",
       "      <td>0</td>\n",
       "      <td>3</td>\n",
       "      <td>2</td>\n",
       "      <td>1</td>\n",
       "    </tr>\n",
       "    <tr>\n",
       "      <th>1</th>\n",
       "      <td>7482651</td>\n",
       "      <td>0</td>\n",
       "      <td>35</td>\n",
       "      <td>2</td>\n",
       "      <td>0.0</td>\n",
       "      <td>0</td>\n",
       "      <td>3</td>\n",
       "      <td>0</td>\n",
       "      <td>1</td>\n",
       "    </tr>\n",
       "    <tr>\n",
       "      <th>2</th>\n",
       "      <td>8413145</td>\n",
       "      <td>0</td>\n",
       "      <td>35</td>\n",
       "      <td>4</td>\n",
       "      <td>0.0</td>\n",
       "      <td>0</td>\n",
       "      <td>3</td>\n",
       "      <td>2</td>\n",
       "      <td>1</td>\n",
       "    </tr>\n",
       "    <tr>\n",
       "      <th>3</th>\n",
       "      <td>7058197</td>\n",
       "      <td>0</td>\n",
       "      <td>35</td>\n",
       "      <td>8</td>\n",
       "      <td>0.0</td>\n",
       "      <td>0</td>\n",
       "      <td>3</td>\n",
       "      <td>3</td>\n",
       "      <td>1</td>\n",
       "    </tr>\n",
       "    <tr>\n",
       "      <th>4</th>\n",
       "      <td>882018</td>\n",
       "      <td>0</td>\n",
       "      <td>37</td>\n",
       "      <td>3</td>\n",
       "      <td>0.0</td>\n",
       "      <td>0</td>\n",
       "      <td>3</td>\n",
       "      <td>0</td>\n",
       "      <td>1</td>\n",
       "    </tr>\n",
       "    <tr>\n",
       "      <th>...</th>\n",
       "      <td>...</td>\n",
       "      <td>...</td>\n",
       "      <td>...</td>\n",
       "      <td>...</td>\n",
       "      <td>...</td>\n",
       "      <td>...</td>\n",
       "      <td>...</td>\n",
       "      <td>...</td>\n",
       "      <td>...</td>\n",
       "    </tr>\n",
       "    <tr>\n",
       "      <th>17852</th>\n",
       "      <td>7064637</td>\n",
       "      <td>33</td>\n",
       "      <td>96</td>\n",
       "      <td>2</td>\n",
       "      <td>133258626.4</td>\n",
       "      <td>3</td>\n",
       "      <td>4</td>\n",
       "      <td>0</td>\n",
       "      <td>4</td>\n",
       "    </tr>\n",
       "    <tr>\n",
       "      <th>17853</th>\n",
       "      <td>12039107</td>\n",
       "      <td>90</td>\n",
       "      <td>113</td>\n",
       "      <td>1</td>\n",
       "      <td>137291528.0</td>\n",
       "      <td>3</td>\n",
       "      <td>4</td>\n",
       "      <td>0</td>\n",
       "      <td>4</td>\n",
       "    </tr>\n",
       "    <tr>\n",
       "      <th>17854</th>\n",
       "      <td>5614930</td>\n",
       "      <td>113</td>\n",
       "      <td>111</td>\n",
       "      <td>3</td>\n",
       "      <td>152101152.0</td>\n",
       "      <td>1</td>\n",
       "      <td>4</td>\n",
       "      <td>0</td>\n",
       "      <td>4</td>\n",
       "    </tr>\n",
       "    <tr>\n",
       "      <th>17855</th>\n",
       "      <td>7215746</td>\n",
       "      <td>10</td>\n",
       "      <td>90</td>\n",
       "      <td>2</td>\n",
       "      <td>166411700.0</td>\n",
       "      <td>4</td>\n",
       "      <td>4</td>\n",
       "      <td>0</td>\n",
       "      <td>4</td>\n",
       "    </tr>\n",
       "    <tr>\n",
       "      <th>17856</th>\n",
       "      <td>17538152</td>\n",
       "      <td>75</td>\n",
       "      <td>109</td>\n",
       "      <td>1</td>\n",
       "      <td>200989888.0</td>\n",
       "      <td>3</td>\n",
       "      <td>4</td>\n",
       "      <td>0</td>\n",
       "      <td>4</td>\n",
       "    </tr>\n",
       "  </tbody>\n",
       "</table>\n",
       "<p>17857 rows × 9 columns</p>\n",
       "</div>"
      ],
      "text/plain": [
       "       frontend_id  frequency_sales  frequency_add  recency          nmv  \\\n",
       "0         14341885                0             36        6          0.0   \n",
       "1          7482651                0             35        2          0.0   \n",
       "2          8413145                0             35        4          0.0   \n",
       "3          7058197                0             35        8          0.0   \n",
       "4           882018                0             37        3          0.0   \n",
       "...            ...              ...            ...      ...          ...   \n",
       "17852      7064637               33             96        2  133258626.4   \n",
       "17853     12039107               90            113        1  137291528.0   \n",
       "17854      5614930              113            111        3  152101152.0   \n",
       "17855      7215746               10             90        2  166411700.0   \n",
       "17856     17538152               75            109        1  200989888.0   \n",
       "\n",
       "       frequency_sales cluster  frequency_add cluster  recency cluster  \\\n",
       "0                            0                      3                2   \n",
       "1                            0                      3                0   \n",
       "2                            0                      3                2   \n",
       "3                            0                      3                3   \n",
       "4                            0                      3                0   \n",
       "...                        ...                    ...              ...   \n",
       "17852                        3                      4                0   \n",
       "17853                        3                      4                0   \n",
       "17854                        1                      4                0   \n",
       "17855                        4                      4                0   \n",
       "17856                        3                      4                0   \n",
       "\n",
       "       nmv cluster  \n",
       "0                1  \n",
       "1                1  \n",
       "2                1  \n",
       "3                1  \n",
       "4                1  \n",
       "...            ...  \n",
       "17852            4  \n",
       "17853            4  \n",
       "17854            4  \n",
       "17855            4  \n",
       "17856            4  \n",
       "\n",
       "[17857 rows x 9 columns]"
      ]
     },
     "execution_count": 81,
     "metadata": {},
     "output_type": "execute_result"
    }
   ],
   "source": [
    "df"
   ]
  },
  {
   "cell_type": "markdown",
   "id": "8d75b32c-283e-4ebe-9470-c3d59693c42c",
   "metadata": {},
   "source": [
    "3. Order these cluster following the feature values. "
   ]
  },
  {
   "cell_type": "code",
   "execution_count": 82,
   "id": "d468f7eb-7386-4c18-963f-15cdd9dd157d",
   "metadata": {},
   "outputs": [],
   "source": [
    "#Because when k-means clustering, its cluster index is random, so we need to sort the cluster index following the value \n",
    "#in that cluster columns. \n",
    "\n",
    "def order_cluster(cluster_field_name, value_order_field_name, ascending, inplace=True): \n",
    "    new_cluster_field_name = 'new '+cluster_field_name \n",
    "    df_new = df.groupby(cluster_field_name)[value_order_field_name].mean().reset_index()\n",
    "    df_new = df_new.sort_values(by=value_order_field_name,ascending=ascending).reset_index(drop = True)\n",
    "    df_new['index']=df_new.index\n",
    "    df_final = pd.merge(df,df_new[[cluster_field_name,'index']], on=cluster_field_name)\n",
    "    df_final = df_final.drop([cluster_field_name], axis =1 )\n",
    "    df_final = df_final.rename(columns={'index':cluster_field_name})\n",
    "    return df_final"
   ]
  },
  {
   "cell_type": "code",
   "execution_count": 83,
   "id": "b85b2a25-eb93-49a0-891d-750d28c58b3a",
   "metadata": {},
   "outputs": [
    {
     "data": {
      "text/html": [
       "<div>\n",
       "<style scoped>\n",
       "    .dataframe tbody tr th:only-of-type {\n",
       "        vertical-align: middle;\n",
       "    }\n",
       "\n",
       "    .dataframe tbody tr th {\n",
       "        vertical-align: top;\n",
       "    }\n",
       "\n",
       "    .dataframe thead th {\n",
       "        text-align: right;\n",
       "    }\n",
       "</style>\n",
       "<table border=\"1\" class=\"dataframe\">\n",
       "  <thead>\n",
       "    <tr style=\"text-align: right;\">\n",
       "      <th></th>\n",
       "      <th>frontend_id</th>\n",
       "      <th>frequency_sales</th>\n",
       "      <th>frequency_add</th>\n",
       "      <th>recency</th>\n",
       "      <th>nmv</th>\n",
       "      <th>frequency_sales cluster</th>\n",
       "      <th>frequency_add cluster</th>\n",
       "      <th>nmv cluster</th>\n",
       "      <th>recency cluster</th>\n",
       "    </tr>\n",
       "  </thead>\n",
       "  <tbody>\n",
       "    <tr>\n",
       "      <th>0</th>\n",
       "      <td>14341885</td>\n",
       "      <td>0</td>\n",
       "      <td>36</td>\n",
       "      <td>6</td>\n",
       "      <td>0.0</td>\n",
       "      <td>0</td>\n",
       "      <td>1</td>\n",
       "      <td>0</td>\n",
       "      <td>3</td>\n",
       "    </tr>\n",
       "    <tr>\n",
       "      <th>1</th>\n",
       "      <td>8413145</td>\n",
       "      <td>0</td>\n",
       "      <td>35</td>\n",
       "      <td>4</td>\n",
       "      <td>0.0</td>\n",
       "      <td>0</td>\n",
       "      <td>1</td>\n",
       "      <td>0</td>\n",
       "      <td>3</td>\n",
       "    </tr>\n",
       "    <tr>\n",
       "      <th>2</th>\n",
       "      <td>6505179</td>\n",
       "      <td>0</td>\n",
       "      <td>36</td>\n",
       "      <td>7</td>\n",
       "      <td>0.0</td>\n",
       "      <td>0</td>\n",
       "      <td>1</td>\n",
       "      <td>0</td>\n",
       "      <td>3</td>\n",
       "    </tr>\n",
       "    <tr>\n",
       "      <th>3</th>\n",
       "      <td>952742</td>\n",
       "      <td>0</td>\n",
       "      <td>36</td>\n",
       "      <td>7</td>\n",
       "      <td>0.0</td>\n",
       "      <td>0</td>\n",
       "      <td>1</td>\n",
       "      <td>0</td>\n",
       "      <td>3</td>\n",
       "    </tr>\n",
       "    <tr>\n",
       "      <th>4</th>\n",
       "      <td>382602</td>\n",
       "      <td>0</td>\n",
       "      <td>37</td>\n",
       "      <td>5</td>\n",
       "      <td>0.0</td>\n",
       "      <td>0</td>\n",
       "      <td>1</td>\n",
       "      <td>0</td>\n",
       "      <td>3</td>\n",
       "    </tr>\n",
       "  </tbody>\n",
       "</table>\n",
       "</div>"
      ],
      "text/plain": [
       "   frontend_id  frequency_sales  frequency_add  recency  nmv  \\\n",
       "0     14341885                0             36        6  0.0   \n",
       "1      8413145                0             35        4  0.0   \n",
       "2      6505179                0             36        7  0.0   \n",
       "3       952742                0             36        7  0.0   \n",
       "4       382602                0             37        5  0.0   \n",
       "\n",
       "   frequency_sales cluster  frequency_add cluster  nmv cluster  \\\n",
       "0                        0                      1            0   \n",
       "1                        0                      1            0   \n",
       "2                        0                      1            0   \n",
       "3                        0                      1            0   \n",
       "4                        0                      1            0   \n",
       "\n",
       "   recency cluster  \n",
       "0                3  \n",
       "1                3  \n",
       "2                3  \n",
       "3                3  \n",
       "4                3  "
      ]
     },
     "execution_count": 83,
     "metadata": {},
     "output_type": "execute_result"
    }
   ],
   "source": [
    "df = order_cluster('frequency_sales cluster', 'frequency_sales', True)\n",
    "df = order_cluster('frequency_add cluster', 'frequency_add', True)\n",
    "df = order_cluster('nmv cluster', 'nmv', True)\n",
    "df = order_cluster('recency cluster', 'recency', False)\n",
    "\n",
    "df.head()"
   ]
  },
  {
   "cell_type": "code",
   "execution_count": 84,
   "id": "b2d9c5b2-d08b-44e4-9bff-71eae11b861e",
   "metadata": {},
   "outputs": [
    {
     "data": {
      "text/html": [
       "<div>\n",
       "<style scoped>\n",
       "    .dataframe tbody tr th:only-of-type {\n",
       "        vertical-align: middle;\n",
       "    }\n",
       "\n",
       "    .dataframe tbody tr th {\n",
       "        vertical-align: top;\n",
       "    }\n",
       "\n",
       "    .dataframe thead th {\n",
       "        text-align: right;\n",
       "    }\n",
       "</style>\n",
       "<table border=\"1\" class=\"dataframe\">\n",
       "  <thead>\n",
       "    <tr style=\"text-align: right;\">\n",
       "      <th></th>\n",
       "      <th>count</th>\n",
       "      <th>mean</th>\n",
       "      <th>std</th>\n",
       "      <th>min</th>\n",
       "      <th>25%</th>\n",
       "      <th>50%</th>\n",
       "      <th>75%</th>\n",
       "      <th>max</th>\n",
       "    </tr>\n",
       "    <tr>\n",
       "      <th>nmv cluster</th>\n",
       "      <th></th>\n",
       "      <th></th>\n",
       "      <th></th>\n",
       "      <th></th>\n",
       "      <th></th>\n",
       "      <th></th>\n",
       "      <th></th>\n",
       "      <th></th>\n",
       "    </tr>\n",
       "  </thead>\n",
       "  <tbody>\n",
       "    <tr>\n",
       "      <th>0</th>\n",
       "      <td>13866.0</td>\n",
       "      <td>1.250159e+06</td>\n",
       "      <td>1.222160e+06</td>\n",
       "      <td>0.00</td>\n",
       "      <td>0.00</td>\n",
       "      <td>9.579490e+05</td>\n",
       "      <td>2073450.0</td>\n",
       "      <td>4368080.0</td>\n",
       "    </tr>\n",
       "    <tr>\n",
       "      <th>1</th>\n",
       "      <td>3066.0</td>\n",
       "      <td>7.505799e+06</td>\n",
       "      <td>2.529944e+06</td>\n",
       "      <td>4372265.00</td>\n",
       "      <td>5359801.25</td>\n",
       "      <td>6.872650e+06</td>\n",
       "      <td>9212975.0</td>\n",
       "      <td>13950300.0</td>\n",
       "    </tr>\n",
       "    <tr>\n",
       "      <th>2</th>\n",
       "      <td>680.0</td>\n",
       "      <td>2.046666e+07</td>\n",
       "      <td>4.857916e+06</td>\n",
       "      <td>14001187.00</td>\n",
       "      <td>16213648.75</td>\n",
       "      <td>1.939652e+07</td>\n",
       "      <td>24116452.5</td>\n",
       "      <td>32215800.0</td>\n",
       "    </tr>\n",
       "    <tr>\n",
       "      <th>3</th>\n",
       "      <td>230.0</td>\n",
       "      <td>4.390813e+07</td>\n",
       "      <td>9.199399e+06</td>\n",
       "      <td>32256140.00</td>\n",
       "      <td>36510682.50</td>\n",
       "      <td>4.212596e+07</td>\n",
       "      <td>49667540.0</td>\n",
       "      <td>79261158.0</td>\n",
       "    </tr>\n",
       "    <tr>\n",
       "      <th>4</th>\n",
       "      <td>15.0</td>\n",
       "      <td>1.186398e+08</td>\n",
       "      <td>3.341386e+07</td>\n",
       "      <td>83648640.99</td>\n",
       "      <td>95719300.00</td>\n",
       "      <td>1.024550e+08</td>\n",
       "      <td>135275077.2</td>\n",
       "      <td>200989888.0</td>\n",
       "    </tr>\n",
       "  </tbody>\n",
       "</table>\n",
       "</div>"
      ],
      "text/plain": [
       "               count          mean           std          min          25%  \\\n",
       "nmv cluster                                                                  \n",
       "0            13866.0  1.250159e+06  1.222160e+06         0.00         0.00   \n",
       "1             3066.0  7.505799e+06  2.529944e+06   4372265.00   5359801.25   \n",
       "2              680.0  2.046666e+07  4.857916e+06  14001187.00  16213648.75   \n",
       "3              230.0  4.390813e+07  9.199399e+06  32256140.00  36510682.50   \n",
       "4               15.0  1.186398e+08  3.341386e+07  83648640.99  95719300.00   \n",
       "\n",
       "                      50%          75%          max  \n",
       "nmv cluster                                          \n",
       "0            9.579490e+05    2073450.0    4368080.0  \n",
       "1            6.872650e+06    9212975.0   13950300.0  \n",
       "2            1.939652e+07   24116452.5   32215800.0  \n",
       "3            4.212596e+07   49667540.0   79261158.0  \n",
       "4            1.024550e+08  135275077.2  200989888.0  "
      ]
     },
     "execution_count": 84,
     "metadata": {},
     "output_type": "execute_result"
    }
   ],
   "source": [
    "df.groupby('nmv cluster')['nmv'].describe()"
   ]
  },
  {
   "cell_type": "code",
   "execution_count": 85,
   "id": "92628da9-0964-431e-8c52-4fbaea480375",
   "metadata": {},
   "outputs": [],
   "source": [
    "df['overall_score'] = df['frequency_sales cluster'] + df['frequency_add cluster'] + df['recency cluster'] + df['nmv cluster']"
   ]
  },
  {
   "cell_type": "code",
   "execution_count": 86,
   "id": "22e4868a-e77a-4016-983b-ac10c11d840a",
   "metadata": {},
   "outputs": [
    {
     "data": {
      "text/plain": [
       "overall_score\n",
       "1      636\n",
       "2     1480\n",
       "3     2443\n",
       "4     3680\n",
       "5     3151\n",
       "6     2552\n",
       "7     1639\n",
       "8      954\n",
       "9      567\n",
       "10     330\n",
       "11     174\n",
       "12     132\n",
       "13      78\n",
       "14      27\n",
       "15      13\n",
       "16       1\n",
       "Name: frontend_id, dtype: int64"
      ]
     },
     "execution_count": 86,
     "metadata": {},
     "output_type": "execute_result"
    }
   ],
   "source": [
    "df.groupby('overall_score')['frontend_id'].count()"
   ]
  },
  {
   "cell_type": "code",
   "execution_count": 91,
   "id": "9f2aad91-1e65-4d01-8e01-b1ca4a3ef78a",
   "metadata": {},
   "outputs": [
    {
     "data": {
      "text/html": [
       "<div>\n",
       "<style scoped>\n",
       "    .dataframe tbody tr th:only-of-type {\n",
       "        vertical-align: middle;\n",
       "    }\n",
       "\n",
       "    .dataframe tbody tr th {\n",
       "        vertical-align: top;\n",
       "    }\n",
       "\n",
       "    .dataframe thead th {\n",
       "        text-align: right;\n",
       "    }\n",
       "</style>\n",
       "<table border=\"1\" class=\"dataframe\">\n",
       "  <thead>\n",
       "    <tr style=\"text-align: right;\">\n",
       "      <th></th>\n",
       "      <th>overall_score</th>\n",
       "      <th>frequency_sales</th>\n",
       "      <th>frequency_add</th>\n",
       "      <th>recency</th>\n",
       "      <th>nmv</th>\n",
       "      <th>frontend_id</th>\n",
       "    </tr>\n",
       "  </thead>\n",
       "  <tbody>\n",
       "    <tr>\n",
       "      <th>15</th>\n",
       "      <td>16</td>\n",
       "      <td>113.0</td>\n",
       "      <td>111.0</td>\n",
       "      <td>3.0</td>\n",
       "      <td>1.521012e+08</td>\n",
       "      <td>1</td>\n",
       "    </tr>\n",
       "    <tr>\n",
       "      <th>14</th>\n",
       "      <td>15</td>\n",
       "      <td>126.0</td>\n",
       "      <td>109.0</td>\n",
       "      <td>2.0</td>\n",
       "      <td>5.489454e+07</td>\n",
       "      <td>13</td>\n",
       "    </tr>\n",
       "    <tr>\n",
       "      <th>13</th>\n",
       "      <td>14</td>\n",
       "      <td>51.0</td>\n",
       "      <td>99.0</td>\n",
       "      <td>1.0</td>\n",
       "      <td>4.405330e+07</td>\n",
       "      <td>27</td>\n",
       "    </tr>\n",
       "    <tr>\n",
       "      <th>12</th>\n",
       "      <td>13</td>\n",
       "      <td>37.0</td>\n",
       "      <td>90.0</td>\n",
       "      <td>1.0</td>\n",
       "      <td>2.808803e+07</td>\n",
       "      <td>78</td>\n",
       "    </tr>\n",
       "    <tr>\n",
       "      <th>11</th>\n",
       "      <td>12</td>\n",
       "      <td>23.0</td>\n",
       "      <td>80.0</td>\n",
       "      <td>1.0</td>\n",
       "      <td>2.548118e+07</td>\n",
       "      <td>132</td>\n",
       "    </tr>\n",
       "    <tr>\n",
       "      <th>10</th>\n",
       "      <td>11</td>\n",
       "      <td>16.0</td>\n",
       "      <td>67.0</td>\n",
       "      <td>1.0</td>\n",
       "      <td>2.162612e+07</td>\n",
       "      <td>174</td>\n",
       "    </tr>\n",
       "    <tr>\n",
       "      <th>9</th>\n",
       "      <td>10</td>\n",
       "      <td>13.5</td>\n",
       "      <td>54.0</td>\n",
       "      <td>2.0</td>\n",
       "      <td>1.467042e+07</td>\n",
       "      <td>330</td>\n",
       "    </tr>\n",
       "    <tr>\n",
       "      <th>8</th>\n",
       "      <td>9</td>\n",
       "      <td>11.0</td>\n",
       "      <td>49.0</td>\n",
       "      <td>2.0</td>\n",
       "      <td>9.424600e+06</td>\n",
       "      <td>567</td>\n",
       "    </tr>\n",
       "    <tr>\n",
       "      <th>7</th>\n",
       "      <td>8</td>\n",
       "      <td>8.0</td>\n",
       "      <td>47.0</td>\n",
       "      <td>2.0</td>\n",
       "      <td>5.426968e+06</td>\n",
       "      <td>954</td>\n",
       "    </tr>\n",
       "    <tr>\n",
       "      <th>6</th>\n",
       "      <td>7</td>\n",
       "      <td>6.0</td>\n",
       "      <td>44.0</td>\n",
       "      <td>2.0</td>\n",
       "      <td>3.289487e+06</td>\n",
       "      <td>1639</td>\n",
       "    </tr>\n",
       "    <tr>\n",
       "      <th>5</th>\n",
       "      <td>6</td>\n",
       "      <td>5.0</td>\n",
       "      <td>38.0</td>\n",
       "      <td>2.0</td>\n",
       "      <td>2.233634e+06</td>\n",
       "      <td>2552</td>\n",
       "    </tr>\n",
       "    <tr>\n",
       "      <th>4</th>\n",
       "      <td>5</td>\n",
       "      <td>3.0</td>\n",
       "      <td>32.0</td>\n",
       "      <td>3.0</td>\n",
       "      <td>1.403000e+06</td>\n",
       "      <td>3151</td>\n",
       "    </tr>\n",
       "    <tr>\n",
       "      <th>3</th>\n",
       "      <td>4</td>\n",
       "      <td>2.0</td>\n",
       "      <td>26.0</td>\n",
       "      <td>4.0</td>\n",
       "      <td>7.440000e+05</td>\n",
       "      <td>3680</td>\n",
       "    </tr>\n",
       "    <tr>\n",
       "      <th>2</th>\n",
       "      <td>3</td>\n",
       "      <td>2.0</td>\n",
       "      <td>25.0</td>\n",
       "      <td>7.0</td>\n",
       "      <td>6.616000e+05</td>\n",
       "      <td>2443</td>\n",
       "    </tr>\n",
       "    <tr>\n",
       "      <th>1</th>\n",
       "      <td>2</td>\n",
       "      <td>2.0</td>\n",
       "      <td>24.0</td>\n",
       "      <td>11.0</td>\n",
       "      <td>5.068100e+05</td>\n",
       "      <td>1480</td>\n",
       "    </tr>\n",
       "    <tr>\n",
       "      <th>0</th>\n",
       "      <td>1</td>\n",
       "      <td>1.0</td>\n",
       "      <td>22.0</td>\n",
       "      <td>15.0</td>\n",
       "      <td>3.170700e+05</td>\n",
       "      <td>636</td>\n",
       "    </tr>\n",
       "  </tbody>\n",
       "</table>\n",
       "</div>"
      ],
      "text/plain": [
       "    overall_score  frequency_sales  frequency_add  recency           nmv  \\\n",
       "15             16            113.0          111.0      3.0  1.521012e+08   \n",
       "14             15            126.0          109.0      2.0  5.489454e+07   \n",
       "13             14             51.0           99.0      1.0  4.405330e+07   \n",
       "12             13             37.0           90.0      1.0  2.808803e+07   \n",
       "11             12             23.0           80.0      1.0  2.548118e+07   \n",
       "10             11             16.0           67.0      1.0  2.162612e+07   \n",
       "9              10             13.5           54.0      2.0  1.467042e+07   \n",
       "8               9             11.0           49.0      2.0  9.424600e+06   \n",
       "7               8              8.0           47.0      2.0  5.426968e+06   \n",
       "6               7              6.0           44.0      2.0  3.289487e+06   \n",
       "5               6              5.0           38.0      2.0  2.233634e+06   \n",
       "4               5              3.0           32.0      3.0  1.403000e+06   \n",
       "3               4              2.0           26.0      4.0  7.440000e+05   \n",
       "2               3              2.0           25.0      7.0  6.616000e+05   \n",
       "1               2              2.0           24.0     11.0  5.068100e+05   \n",
       "0               1              1.0           22.0     15.0  3.170700e+05   \n",
       "\n",
       "    frontend_id  \n",
       "15            1  \n",
       "14           13  \n",
       "13           27  \n",
       "12           78  \n",
       "11          132  \n",
       "10          174  \n",
       "9           330  \n",
       "8           567  \n",
       "7           954  \n",
       "6          1639  \n",
       "5          2552  \n",
       "4          3151  \n",
       "3          3680  \n",
       "2          2443  \n",
       "1          1480  \n",
       "0           636  "
      ]
     },
     "execution_count": 91,
     "metadata": {},
     "output_type": "execute_result"
    }
   ],
   "source": [
    "df_mean = df.groupby('overall_score')[['frequency_sales','frequency_add','recency','nmv']].median()\n",
    "df_count = df.groupby('overall_score')[['frontend_id']].count()\n",
    "df_new = pd.merge(df_mean,df_count, on = 'overall_score').reset_index()\n",
    "df_new.sort_values(by='overall_score',ascending=False)"
   ]
  },
  {
   "cell_type": "markdown",
   "id": "54f93c1d-ca75-4710-9d38-dc7d8ca93ec2",
   "metadata": {},
   "source": [
    "- Above table is the final table that shows the median and the number of customers per score.\n",
    "- With this table, business can define which overall score that customers have to take action on them."
   ]
  },
  {
   "cell_type": "markdown",
   "id": "93ceb908-56e4-4362-b6f3-c816565e349a",
   "metadata": {},
   "source": [
    "**After segment these customers into many groups and testing the a range score of customers, we collect data of a group customers that buy the FT. \n",
    "Next step, we will get the these data to predict which customer will buy the FT.**"
   ]
  },
  {
   "cell_type": "markdown",
   "id": "85c373f5-8623-4b27-8f30-a85bf50c1f7a",
   "metadata": {},
   "source": [
    "#### Part B: Predict Customers"
   ]
  },
  {
   "cell_type": "code",
   "execution_count": 148,
   "id": "0e363ed1-4125-4533-969e-60546f2a3141",
   "metadata": {},
   "outputs": [
    {
     "data": {
      "text/html": [
       "<div>\n",
       "<style scoped>\n",
       "    .dataframe tbody tr th:only-of-type {\n",
       "        vertical-align: middle;\n",
       "    }\n",
       "\n",
       "    .dataframe tbody tr th {\n",
       "        vertical-align: top;\n",
       "    }\n",
       "\n",
       "    .dataframe thead th {\n",
       "        text-align: right;\n",
       "    }\n",
       "</style>\n",
       "<table border=\"1\" class=\"dataframe\">\n",
       "  <thead>\n",
       "    <tr style=\"text-align: right;\">\n",
       "      <th></th>\n",
       "      <th>frontend_id</th>\n",
       "      <th>frequency_sales</th>\n",
       "      <th>frequency_add</th>\n",
       "      <th>recency</th>\n",
       "      <th>nmv</th>\n",
       "      <th>frequency_sales cluster</th>\n",
       "      <th>frequency_add cluster</th>\n",
       "      <th>nmv cluster</th>\n",
       "      <th>recency cluster</th>\n",
       "      <th>overall_score</th>\n",
       "      <th>convert</th>\n",
       "    </tr>\n",
       "  </thead>\n",
       "  <tbody>\n",
       "    <tr>\n",
       "      <th>count</th>\n",
       "      <td>4.569000e+03</td>\n",
       "      <td>4569.000000</td>\n",
       "      <td>4569.000000</td>\n",
       "      <td>4569.000000</td>\n",
       "      <td>4.569000e+03</td>\n",
       "      <td>4569.000000</td>\n",
       "      <td>4569.000000</td>\n",
       "      <td>4569.000000</td>\n",
       "      <td>4569.000000</td>\n",
       "      <td>4569.000000</td>\n",
       "      <td>4569.000000</td>\n",
       "    </tr>\n",
       "    <tr>\n",
       "      <th>mean</th>\n",
       "      <td>6.609994e+06</td>\n",
       "      <td>5.119720</td>\n",
       "      <td>34.138980</td>\n",
       "      <td>5.344714</td>\n",
       "      <td>3.732259e+06</td>\n",
       "      <td>0.503611</td>\n",
       "      <td>1.056249</td>\n",
       "      <td>0.285620</td>\n",
       "      <td>3.123441</td>\n",
       "      <td>4.968921</td>\n",
       "      <td>0.276866</td>\n",
       "    </tr>\n",
       "    <tr>\n",
       "      <th>std</th>\n",
       "      <td>5.517244e+06</td>\n",
       "      <td>8.540717</td>\n",
       "      <td>13.273797</td>\n",
       "      <td>4.900947</td>\n",
       "      <td>7.962254e+06</td>\n",
       "      <td>0.686719</td>\n",
       "      <td>1.052741</td>\n",
       "      <td>0.607215</td>\n",
       "      <td>1.013955</td>\n",
       "      <td>2.260488</td>\n",
       "      <td>0.447499</td>\n",
       "    </tr>\n",
       "    <tr>\n",
       "      <th>min</th>\n",
       "      <td>4.060000e+02</td>\n",
       "      <td>0.000000</td>\n",
       "      <td>20.000000</td>\n",
       "      <td>1.000000</td>\n",
       "      <td>0.000000e+00</td>\n",
       "      <td>0.000000</td>\n",
       "      <td>0.000000</td>\n",
       "      <td>0.000000</td>\n",
       "      <td>0.000000</td>\n",
       "      <td>1.000000</td>\n",
       "      <td>0.000000</td>\n",
       "    </tr>\n",
       "    <tr>\n",
       "      <th>25%</th>\n",
       "      <td>1.186180e+06</td>\n",
       "      <td>1.000000</td>\n",
       "      <td>24.000000</td>\n",
       "      <td>2.000000</td>\n",
       "      <td>2.820000e+05</td>\n",
       "      <td>0.000000</td>\n",
       "      <td>0.000000</td>\n",
       "      <td>0.000000</td>\n",
       "      <td>3.000000</td>\n",
       "      <td>3.000000</td>\n",
       "      <td>0.000000</td>\n",
       "    </tr>\n",
       "    <tr>\n",
       "      <th>50%</th>\n",
       "      <td>6.260137e+06</td>\n",
       "      <td>4.000000</td>\n",
       "      <td>31.000000</td>\n",
       "      <td>4.000000</td>\n",
       "      <td>1.515000e+06</td>\n",
       "      <td>0.000000</td>\n",
       "      <td>1.000000</td>\n",
       "      <td>0.000000</td>\n",
       "      <td>3.000000</td>\n",
       "      <td>5.000000</td>\n",
       "      <td>0.000000</td>\n",
       "    </tr>\n",
       "    <tr>\n",
       "      <th>75%</th>\n",
       "      <td>1.063873e+07</td>\n",
       "      <td>7.000000</td>\n",
       "      <td>40.000000</td>\n",
       "      <td>7.000000</td>\n",
       "      <td>3.841500e+06</td>\n",
       "      <td>1.000000</td>\n",
       "      <td>2.000000</td>\n",
       "      <td>0.000000</td>\n",
       "      <td>4.000000</td>\n",
       "      <td>6.000000</td>\n",
       "      <td>1.000000</td>\n",
       "    </tr>\n",
       "    <tr>\n",
       "      <th>max</th>\n",
       "      <td>1.886686e+07</td>\n",
       "      <td>257.000000</td>\n",
       "      <td>117.000000</td>\n",
       "      <td>42.000000</td>\n",
       "      <td>2.009899e+08</td>\n",
       "      <td>4.000000</td>\n",
       "      <td>4.000000</td>\n",
       "      <td>4.000000</td>\n",
       "      <td>4.000000</td>\n",
       "      <td>16.000000</td>\n",
       "      <td>1.000000</td>\n",
       "    </tr>\n",
       "  </tbody>\n",
       "</table>\n",
       "</div>"
      ],
      "text/plain": [
       "        frontend_id  frequency_sales  frequency_add      recency  \\\n",
       "count  4.569000e+03      4569.000000    4569.000000  4569.000000   \n",
       "mean   6.609994e+06         5.119720      34.138980     5.344714   \n",
       "std    5.517244e+06         8.540717      13.273797     4.900947   \n",
       "min    4.060000e+02         0.000000      20.000000     1.000000   \n",
       "25%    1.186180e+06         1.000000      24.000000     2.000000   \n",
       "50%    6.260137e+06         4.000000      31.000000     4.000000   \n",
       "75%    1.063873e+07         7.000000      40.000000     7.000000   \n",
       "max    1.886686e+07       257.000000     117.000000    42.000000   \n",
       "\n",
       "                nmv  frequency_sales cluster  frequency_add cluster  \\\n",
       "count  4.569000e+03              4569.000000            4569.000000   \n",
       "mean   3.732259e+06                 0.503611               1.056249   \n",
       "std    7.962254e+06                 0.686719               1.052741   \n",
       "min    0.000000e+00                 0.000000               0.000000   \n",
       "25%    2.820000e+05                 0.000000               0.000000   \n",
       "50%    1.515000e+06                 0.000000               1.000000   \n",
       "75%    3.841500e+06                 1.000000               2.000000   \n",
       "max    2.009899e+08                 4.000000               4.000000   \n",
       "\n",
       "       nmv cluster  recency cluster  overall_score      convert  \n",
       "count  4569.000000      4569.000000    4569.000000  4569.000000  \n",
       "mean      0.285620         3.123441       4.968921     0.276866  \n",
       "std       0.607215         1.013955       2.260488     0.447499  \n",
       "min       0.000000         0.000000       1.000000     0.000000  \n",
       "25%       0.000000         3.000000       3.000000     0.000000  \n",
       "50%       0.000000         3.000000       5.000000     0.000000  \n",
       "75%       0.000000         4.000000       6.000000     1.000000  \n",
       "max       4.000000         4.000000      16.000000     1.000000  "
      ]
     },
     "execution_count": 148,
     "metadata": {},
     "output_type": "execute_result"
    }
   ],
   "source": [
    "df_convert = pd.read_excel('/Users/nguyenngockimnhu/Documents/Model Exercise/RFM_Customer Segmentation/test.xlsx')\n",
    "df_convert.describe()"
   ]
  },
  {
   "cell_type": "markdown",
   "id": "2d198492-1e8c-4eec-850d-6d7420bf008b",
   "metadata": {},
   "source": [
    "**Step 1: Visualize Data**"
   ]
  },
  {
   "cell_type": "code",
   "execution_count": 149,
   "id": "1a0c8950-5398-4fe7-9efc-e9ae2fb3e0e9",
   "metadata": {},
   "outputs": [],
   "source": [
    "def convert_plot(x):\n",
    "    plt.figure(figsize=(8,5))\n",
    "    plt.title(x+' vs Convert Plot')\n",
    "    sns.boxplot(y=df_convert[x], x = df_convert['convert'], palette=('PuBuGn'))\n",
    "    plt.show()"
   ]
  },
  {
   "cell_type": "code",
   "execution_count": 127,
   "id": "71c12837-1eda-4b71-a1e0-9e5dbd8f6ad7",
   "metadata": {},
   "outputs": [
    {
     "data": {
      "image/png": "[encoded data removed]",
      "text/plain": [
       "<Figure size 576x360 with 1 Axes>"
      ]
     },
     "metadata": {
      "needs_background": "light"
     },
     "output_type": "display_data"
    },
    {
     "data": {
      "image/png": "[encoded data removed]",
      "text/plain": [
       "<Figure size 576x360 with 1 Axes>"
      ]
     },
     "metadata": {
      "needs_background": "light"
     },
     "output_type": "display_data"
    },
    {
     "data": {
      "image/png": "[encoded data removed]",
      "text/plain": [
       "<Figure size 576x360 with 1 Axes>"
      ]
     },
     "metadata": {
      "needs_background": "light"
     },
     "output_type": "display_data"
    },
    {
     "data": {
      "image/png": "[encoded data removed]",
      "text/plain": [
       "<Figure size 576x360 with 1 Axes>"
      ]
     },
     "metadata": {
      "needs_background": "light"
     },
     "output_type": "display_data"
    },
    {
     "data": {
      "image/png": "[encoded data removed]",
      "text/plain": [
       "<Figure size 576x360 with 1 Axes>"
      ]
     },
     "metadata": {
      "needs_background": "light"
     },
     "output_type": "display_data"
    }
   ],
   "source": [
    "convert_plot('recency')\n",
    "convert_plot('nmv')\n",
    "convert_plot('frequency_sales')\n",
    "convert_plot('frequency_add')\n",
    "convert_plot('overall_score')"
   ]
  },
  {
   "cell_type": "code",
   "execution_count": 153,
   "id": "fa2d46d2-d06f-453a-891b-7d6a4cb8c3da",
   "metadata": {},
   "outputs": [
    {
     "data": {
      "text/html": [
       "<div>\n",
       "<style scoped>\n",
       "    .dataframe tbody tr th:only-of-type {\n",
       "        vertical-align: middle;\n",
       "    }\n",
       "\n",
       "    .dataframe tbody tr th {\n",
       "        vertical-align: top;\n",
       "    }\n",
       "\n",
       "    .dataframe thead th {\n",
       "        text-align: right;\n",
       "    }\n",
       "</style>\n",
       "<table border=\"1\" class=\"dataframe\">\n",
       "  <thead>\n",
       "    <tr style=\"text-align: right;\">\n",
       "      <th></th>\n",
       "      <th>overall_score</th>\n",
       "      <th>users_converted</th>\n",
       "      <th>total_users</th>\n",
       "      <th>percentage</th>\n",
       "    </tr>\n",
       "  </thead>\n",
       "  <tbody>\n",
       "    <tr>\n",
       "      <th>0</th>\n",
       "      <td>2</td>\n",
       "      <td>10</td>\n",
       "      <td>399</td>\n",
       "      <td>0.025063</td>\n",
       "    </tr>\n",
       "    <tr>\n",
       "      <th>1</th>\n",
       "      <td>3</td>\n",
       "      <td>10</td>\n",
       "      <td>629</td>\n",
       "      <td>0.015898</td>\n",
       "    </tr>\n",
       "    <tr>\n",
       "      <th>2</th>\n",
       "      <td>4</td>\n",
       "      <td>10</td>\n",
       "      <td>952</td>\n",
       "      <td>0.010504</td>\n",
       "    </tr>\n",
       "    <tr>\n",
       "      <th>3</th>\n",
       "      <td>5</td>\n",
       "      <td>441</td>\n",
       "      <td>848</td>\n",
       "      <td>0.520047</td>\n",
       "    </tr>\n",
       "    <tr>\n",
       "      <th>4</th>\n",
       "      <td>6</td>\n",
       "      <td>334</td>\n",
       "      <td>668</td>\n",
       "      <td>0.500000</td>\n",
       "    </tr>\n",
       "    <tr>\n",
       "      <th>5</th>\n",
       "      <td>7</td>\n",
       "      <td>182</td>\n",
       "      <td>378</td>\n",
       "      <td>0.481481</td>\n",
       "    </tr>\n",
       "    <tr>\n",
       "      <th>6</th>\n",
       "      <td>8</td>\n",
       "      <td>122</td>\n",
       "      <td>239</td>\n",
       "      <td>0.510460</td>\n",
       "    </tr>\n",
       "    <tr>\n",
       "      <th>7</th>\n",
       "      <td>9</td>\n",
       "      <td>69</td>\n",
       "      <td>127</td>\n",
       "      <td>0.543307</td>\n",
       "    </tr>\n",
       "    <tr>\n",
       "      <th>8</th>\n",
       "      <td>10</td>\n",
       "      <td>36</td>\n",
       "      <td>79</td>\n",
       "      <td>0.455696</td>\n",
       "    </tr>\n",
       "    <tr>\n",
       "      <th>9</th>\n",
       "      <td>11</td>\n",
       "      <td>15</td>\n",
       "      <td>44</td>\n",
       "      <td>0.340909</td>\n",
       "    </tr>\n",
       "    <tr>\n",
       "      <th>10</th>\n",
       "      <td>12</td>\n",
       "      <td>14</td>\n",
       "      <td>34</td>\n",
       "      <td>0.411765</td>\n",
       "    </tr>\n",
       "    <tr>\n",
       "      <th>11</th>\n",
       "      <td>13</td>\n",
       "      <td>12</td>\n",
       "      <td>18</td>\n",
       "      <td>0.666667</td>\n",
       "    </tr>\n",
       "    <tr>\n",
       "      <th>12</th>\n",
       "      <td>14</td>\n",
       "      <td>4</td>\n",
       "      <td>6</td>\n",
       "      <td>0.666667</td>\n",
       "    </tr>\n",
       "    <tr>\n",
       "      <th>13</th>\n",
       "      <td>15</td>\n",
       "      <td>5</td>\n",
       "      <td>7</td>\n",
       "      <td>0.714286</td>\n",
       "    </tr>\n",
       "    <tr>\n",
       "      <th>14</th>\n",
       "      <td>16</td>\n",
       "      <td>1</td>\n",
       "      <td>1</td>\n",
       "      <td>1.000000</td>\n",
       "    </tr>\n",
       "  </tbody>\n",
       "</table>\n",
       "</div>"
      ],
      "text/plain": [
       "    overall_score  users_converted  total_users  percentage\n",
       "0               2               10          399    0.025063\n",
       "1               3               10          629    0.015898\n",
       "2               4               10          952    0.010504\n",
       "3               5              441          848    0.520047\n",
       "4               6              334          668    0.500000\n",
       "5               7              182          378    0.481481\n",
       "6               8              122          239    0.510460\n",
       "7               9               69          127    0.543307\n",
       "8              10               36           79    0.455696\n",
       "9              11               15           44    0.340909\n",
       "10             12               14           34    0.411765\n",
       "11             13               12           18    0.666667\n",
       "12             14                4            6    0.666667\n",
       "13             15                5            7    0.714286\n",
       "14             16                1            1    1.000000"
      ]
     },
     "execution_count": 153,
     "metadata": {},
     "output_type": "execute_result"
    }
   ],
   "source": [
    "df_non_convert = df_convert[df_convert['convert'] == 1].groupby('overall_score')[['frontend_id']].count().reset_index()\n",
    "df_had_convert = df_convert.groupby('overall_score')[['frontend_id']].count().reset_index()\n",
    "df_convert_merge = pd.merge(df_non_convert,df_had_convert, on = 'overall_score', how = 'left')\n",
    "df_convert_merge.rename(columns = {'frontend_id_x':'users_converted','frontend_id_y':'total_users'}, inplace = True)\n",
    "df_convert_merge['percentage'] = df_convert_merge['users_converted'] / df_convert_merge['total_users']\n",
    "df_convert_merge"
   ]
  },
  {
   "cell_type": "markdown",
   "id": "6c4ba37b-e074-480b-80ee-067b962bbbfa",
   "metadata": {},
   "source": [
    "As we can see, users who high overall score will have high chance to get the convert"
   ]
  },
  {
   "cell_type": "markdown",
   "id": "4d3023f2-b69b-496f-8aef-963bb14c07d3",
   "metadata": {},
   "source": [
    "**Step 2: Apply Model**"
   ]
  },
  {
   "cell_type": "markdown",
   "id": "b7468244-e463-47dd-9b97-eca84566f920",
   "metadata": {},
   "source": [
    "**Split train/test:**"
   ]
  },
  {
   "cell_type": "code",
   "execution_count": 155,
   "id": "e37eeef4-28ff-47ce-84b8-3822524f6712",
   "metadata": {},
   "outputs": [],
   "source": [
    "from sklearn.model_selection import train_test_split"
   ]
  },
  {
   "cell_type": "code",
   "execution_count": 159,
   "id": "85ad0f63-6bd0-445e-b0dd-7ef6259d6dd1",
   "metadata": {},
   "outputs": [],
   "source": [
    "x_data = df_convert[['frequency_sales', 'frequency_add','recency','nmv','overall_score']]                     \n",
    "y_data = df_convert[['convert']]"
   ]
  },
  {
   "cell_type": "code",
   "execution_count": 161,
   "id": "6becae4f-d3a9-48bf-98b6-5c6d3de2a0c9",
   "metadata": {},
   "outputs": [],
   "source": [
    "x_train, x_test, y_train, y_test = train_test_split(x_data,y_data, test_size=0.33, random_state=42)"
   ]
  },
  {
   "cell_type": "markdown",
   "id": "054030e0-9e26-49ee-86e4-803add8abfde",
   "metadata": {},
   "source": [
    "**Apply Model:**"
   ]
  },
  {
   "cell_type": "code",
   "execution_count": 165,
   "id": "6997dd8a-ff9d-4dbe-9162-460cceba5d6f",
   "metadata": {},
   "outputs": [],
   "source": [
    "from sklearn.linear_model import LogisticRegression\n",
    "from sklearn.svm import SVC, LinearSVC\n",
    "from sklearn.ensemble import RandomForestClassifier\n",
    "from sklearn.neighbors import KNeighborsClassifier\n",
    "from sklearn.naive_bayes import GaussianNB\n",
    "from sklearn.linear_model import SGDClassifier\n",
    "from sklearn.tree import DecisionTreeClassifier"
   ]
  },
  {
   "cell_type": "code",
   "execution_count": 166,
   "id": "3779f57f-2f66-4eca-b7fd-9eb173aad2cd",
   "metadata": {},
   "outputs": [
    {
     "data": {
      "text/plain": [
       "0.7265599477295002"
      ]
     },
     "execution_count": 166,
     "metadata": {},
     "output_type": "execute_result"
    }
   ],
   "source": [
    "# Support Vector Machine\n",
    "svc = SVC()\n",
    "svc.fit(x_train, y_train)\n",
    "svm_Y_pred = svc.predict(x_test)\n",
    "svc_accuracy = svc.score(x_train, y_train)\n",
    "svc_accuracy"
   ]
  },
  {
   "cell_type": "code",
   "execution_count": 167,
   "id": "0d4673a5-fb46-474a-90cd-25ecdb1712a2",
   "metadata": {},
   "outputs": [
    {
     "data": {
      "text/plain": [
       "0.821953609931395"
      ]
     },
     "execution_count": 167,
     "metadata": {},
     "output_type": "execute_result"
    }
   ],
   "source": [
    "# k-nearest neighbor\n",
    "knn = KNeighborsClassifier(n_neighbors = 3)\n",
    "knn.fit(x_train,y_train)\n",
    "knn_Y_pred = knn.predict(x_test)\n",
    "knn_accuracy = knn.score(x_train, y_train)\n",
    "knn_accuracy"
   ]
  },
  {
   "cell_type": "code",
   "execution_count": 172,
   "id": "811bf108-7302-430f-9365-cb81b5f96aa6",
   "metadata": {},
   "outputs": [
    {
     "data": {
      "text/plain": [
       "0.9852989219209408"
      ]
     },
     "execution_count": 172,
     "metadata": {},
     "output_type": "execute_result"
    }
   ],
   "source": [
    "# Decision Tree\n",
    "decision_tree = DecisionTreeClassifier()\n",
    "decision_tree.fit(x_train, y_train)\n",
    "decision_tree_Y_pred = decision_tree.predict(x_test)\n",
    "decision_tree_accuracy = decision_tree.score(x_train, y_train)\n",
    "decision_tree_accuracy"
   ]
  },
  {
   "cell_type": "code",
   "execution_count": 174,
   "id": "89b0ae0d-4d45-4b89-8d00-a94ddda67527",
   "metadata": {},
   "outputs": [
    {
     "data": {
      "text/plain": [
       "0.9849722312969618"
      ]
     },
     "execution_count": 174,
     "metadata": {},
     "output_type": "execute_result"
    }
   ],
   "source": [
    "# Random Forest\n",
    "random_forest = RandomForestClassifier(n_estimators=100)\n",
    "random_forest.fit(x_train, y_train)\n",
    "random_forest_Y_pred = random_forest.predict(x_test)\n",
    "random_forest.score(x_train, y_train)\n",
    "random_forest_accuracy = random_forest.score(x_train, y_train)\n",
    "random_forest_accuracy"
   ]
  },
  {
   "cell_type": "code",
   "execution_count": 176,
   "id": "a9ca0fa5-76a2-4316-a6be-06dbe11bb618",
   "metadata": {},
   "outputs": [
    {
     "data": {
      "text/html": [
       "<div>\n",
       "<style scoped>\n",
       "    .dataframe tbody tr th:only-of-type {\n",
       "        vertical-align: middle;\n",
       "    }\n",
       "\n",
       "    .dataframe tbody tr th {\n",
       "        vertical-align: top;\n",
       "    }\n",
       "\n",
       "    .dataframe thead th {\n",
       "        text-align: right;\n",
       "    }\n",
       "</style>\n",
       "<table border=\"1\" class=\"dataframe\">\n",
       "  <thead>\n",
       "    <tr style=\"text-align: right;\">\n",
       "      <th></th>\n",
       "      <th>Model</th>\n",
       "      <th>Score</th>\n",
       "    </tr>\n",
       "  </thead>\n",
       "  <tbody>\n",
       "    <tr>\n",
       "      <th>2</th>\n",
       "      <td>Decision Tree</td>\n",
       "      <td>0.985299</td>\n",
       "    </tr>\n",
       "    <tr>\n",
       "      <th>3</th>\n",
       "      <td>Random Forest</td>\n",
       "      <td>0.984972</td>\n",
       "    </tr>\n",
       "    <tr>\n",
       "      <th>1</th>\n",
       "      <td>KNN</td>\n",
       "      <td>0.821954</td>\n",
       "    </tr>\n",
       "    <tr>\n",
       "      <th>0</th>\n",
       "      <td>Support Vector Machines</td>\n",
       "      <td>0.726560</td>\n",
       "    </tr>\n",
       "  </tbody>\n",
       "</table>\n",
       "</div>"
      ],
      "text/plain": [
       "                     Model     Score\n",
       "2            Decision Tree  0.985299\n",
       "3            Random Forest  0.984972\n",
       "1                      KNN  0.821954\n",
       "0  Support Vector Machines  0.726560"
      ]
     },
     "execution_count": 176,
     "metadata": {},
     "output_type": "execute_result"
    }
   ],
   "source": [
    "models = pd.DataFrame({\n",
    "    'Model': ['Support Vector Machines', 'KNN',\n",
    "               'Decision Tree','Random Forest'],\n",
    "    'Score': [svc_accuracy, knn_accuracy,\n",
    "               decision_tree_accuracy, random_forest_accuracy]})\n",
    "models.sort_values(by='Score', ascending=False)"
   ]
  },
  {
   "cell_type": "code",
   "execution_count": null,
   "id": "ed831659-a020-4074-a5a6-32116a218d42",
   "metadata": {},
   "outputs": [],
   "source": []
  }
 ],
 "metadata": {
  "kernelspec": {
   "display_name": "Python 3 (ipykernel)",
   "language": "python",
   "name": "python3"
  },
  "language_info": {
   "codemirror_mode": {
    "name": "ipython",
    "version": 3
   },
   "file_extension": ".py",
   "mimetype": "text/x-python",
   "name": "python",
   "nbconvert_exporter": "python",
   "pygments_lexer": "ipython3",
   "version": "3.9.7"
  }
 },
 "nbformat": 4,
 "nbformat_minor": 5
}
