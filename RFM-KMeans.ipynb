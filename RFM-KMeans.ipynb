{
 "cells": [
  {
   "cell_type": "markdown",
   "id": "154d8aef",
   "metadata": {},
   "source": [
    "We have a data of customer, and metrics show their performance in sales and engagement (add to cart) \n",
    "\n",
    "**Business Target** \n",
    "   Segment customers that have the same performance (highest, medium, lowest) for trial program offering \n",
    "  \n",
    "**General Idea** \n",
    "   Clustering each dimensions by K-Means and score each cluster. After that, sum of all score to define total score of each customer. "
   ]
  },
  {
   "cell_type": "code",
   "execution_count": 3,
   "id": "c117ba6a",
   "metadata": {},
   "outputs": [],
   "source": [
    "import pandas as pd\n",
    "import numpy as np\n",
    "import matplotlib.pyplot as plt\n",
    "import seaborn as sns"
   ]
  },
  {
   "cell_type": "code",
   "execution_count": 4,
   "id": "686a9a31",
   "metadata": {},
   "outputs": [
    {
     "data": {
      "text/html": [
       "<div>\n",
       "<style scoped>\n",
       "    .dataframe tbody tr th:only-of-type {\n",
       "        vertical-align: middle;\n",
       "    }\n",
       "\n",
       "    .dataframe tbody tr th {\n",
       "        vertical-align: top;\n",
       "    }\n",
       "\n",
       "    .dataframe thead th {\n",
       "        text-align: right;\n",
       "    }\n",
       "</style>\n",
       "<table border=\"1\" class=\"dataframe\">\n",
       "  <thead>\n",
       "    <tr style=\"text-align: right;\">\n",
       "      <th></th>\n",
       "      <th>frontend_id</th>\n",
       "      <th>backend_id</th>\n",
       "      <th>frequency_sales</th>\n",
       "      <th>frequency_add</th>\n",
       "      <th>recency</th>\n",
       "      <th>nmv</th>\n",
       "    </tr>\n",
       "  </thead>\n",
       "  <tbody>\n",
       "    <tr>\n",
       "      <th>count</th>\n",
       "      <td>1.785700e+04</td>\n",
       "      <td>1.785700e+04</td>\n",
       "      <td>17857.000000</td>\n",
       "      <td>17857.000000</td>\n",
       "      <td>17857.000000</td>\n",
       "      <td>1.785700e+04</td>\n",
       "    </tr>\n",
       "    <tr>\n",
       "      <th>mean</th>\n",
       "      <td>6.593495e+06</td>\n",
       "      <td>4.847783e+06</td>\n",
       "      <td>5.074929</td>\n",
       "      <td>34.292602</td>\n",
       "      <td>5.360083</td>\n",
       "      <td>3.704053e+06</td>\n",
       "    </tr>\n",
       "    <tr>\n",
       "      <th>std</th>\n",
       "      <td>5.519320e+06</td>\n",
       "      <td>4.397933e+06</td>\n",
       "      <td>7.664240</td>\n",
       "      <td>13.121542</td>\n",
       "      <td>4.961335</td>\n",
       "      <td>7.408944e+06</td>\n",
       "    </tr>\n",
       "    <tr>\n",
       "      <th>min</th>\n",
       "      <td>1.280000e+02</td>\n",
       "      <td>1.280000e+02</td>\n",
       "      <td>0.000000</td>\n",
       "      <td>20.000000</td>\n",
       "      <td>1.000000</td>\n",
       "      <td>0.000000e+00</td>\n",
       "    </tr>\n",
       "    <tr>\n",
       "      <th>25%</th>\n",
       "      <td>1.160799e+06</td>\n",
       "      <td>1.160796e+06</td>\n",
       "      <td>1.000000</td>\n",
       "      <td>24.000000</td>\n",
       "      <td>2.000000</td>\n",
       "      <td>3.120000e+05</td>\n",
       "    </tr>\n",
       "    <tr>\n",
       "      <th>50%</th>\n",
       "      <td>6.267402e+06</td>\n",
       "      <td>3.423623e+06</td>\n",
       "      <td>3.000000</td>\n",
       "      <td>31.000000</td>\n",
       "      <td>4.000000</td>\n",
       "      <td>1.527000e+06</td>\n",
       "    </tr>\n",
       "    <tr>\n",
       "      <th>75%</th>\n",
       "      <td>1.064650e+07</td>\n",
       "      <td>7.773393e+06</td>\n",
       "      <td>7.000000</td>\n",
       "      <td>41.000000</td>\n",
       "      <td>7.000000</td>\n",
       "      <td>3.889000e+06</td>\n",
       "    </tr>\n",
       "    <tr>\n",
       "      <th>max</th>\n",
       "      <td>1.890549e+07</td>\n",
       "      <td>1.587951e+07</td>\n",
       "      <td>257.000000</td>\n",
       "      <td>120.000000</td>\n",
       "      <td>44.000000</td>\n",
       "      <td>2.009899e+08</td>\n",
       "    </tr>\n",
       "  </tbody>\n",
       "</table>\n",
       "</div>"
      ],
      "text/plain": [
       "        frontend_id    backend_id  frequency_sales  frequency_add  \\\n",
       "count  1.785700e+04  1.785700e+04     17857.000000   17857.000000   \n",
       "mean   6.593495e+06  4.847783e+06         5.074929      34.292602   \n",
       "std    5.519320e+06  4.397933e+06         7.664240      13.121542   \n",
       "min    1.280000e+02  1.280000e+02         0.000000      20.000000   \n",
       "25%    1.160799e+06  1.160796e+06         1.000000      24.000000   \n",
       "50%    6.267402e+06  3.423623e+06         3.000000      31.000000   \n",
       "75%    1.064650e+07  7.773393e+06         7.000000      41.000000   \n",
       "max    1.890549e+07  1.587951e+07       257.000000     120.000000   \n",
       "\n",
       "            recency           nmv  \n",
       "count  17857.000000  1.785700e+04  \n",
       "mean       5.360083  3.704053e+06  \n",
       "std        4.961335  7.408944e+06  \n",
       "min        1.000000  0.000000e+00  \n",
       "25%        2.000000  3.120000e+05  \n",
       "50%        4.000000  1.527000e+06  \n",
       "75%        7.000000  3.889000e+06  \n",
       "max       44.000000  2.009899e+08  "
      ]
     },
     "execution_count": 4,
     "metadata": {},
     "output_type": "execute_result"
    }
   ],
   "source": [
    "df = pd.read_csv('/Users/nguyenngockimnhu/Documents/RFM_non_tkn_raw.csv')\n",
    "df.describe()"
   ]
  },
  {
   "cell_type": "code",
   "execution_count": 5,
   "id": "aae31ff8",
   "metadata": {},
   "outputs": [
    {
     "data": {
      "text/plain": [
       "0        11463743\n",
       "1         4635487\n",
       "2         5571657\n",
       "3         4212346\n",
       "4          882104\n",
       "           ...   \n",
       "17852     4218783\n",
       "17853     9162357\n",
       "17854     2774615\n",
       "17855     4369541\n",
       "17856    14515828\n",
       "Name: backend_id, Length: 17857, dtype: int64"
      ]
     },
     "execution_count": 5,
     "metadata": {},
     "output_type": "execute_result"
    }
   ],
   "source": [
    "df.pop('backend_id')"
   ]
  },
  {
   "cell_type": "code",
   "execution_count": 6,
   "id": "feccc76e",
   "metadata": {},
   "outputs": [
    {
     "name": "stdout",
     "output_type": "stream",
     "text": [
      "<class 'pandas.core.frame.DataFrame'>\n",
      "RangeIndex: 17857 entries, 0 to 17856\n",
      "Data columns (total 5 columns):\n",
      " #   Column           Non-Null Count  Dtype  \n",
      "---  ------           --------------  -----  \n",
      " 0   frontend_id      17857 non-null  int64  \n",
      " 1   frequency_sales  17857 non-null  int64  \n",
      " 2   frequency_add    17857 non-null  int64  \n",
      " 3   recency          17857 non-null  int64  \n",
      " 4   nmv              17857 non-null  float64\n",
      "dtypes: float64(1), int64(4)\n",
      "memory usage: 697.7 KB\n"
     ]
    }
   ],
   "source": [
    "#There is no null value in each column. \n",
    "df.info()"
   ]
  },
  {
   "cell_type": "markdown",
   "id": "eef1388d",
   "metadata": {},
   "source": [
    "**Step 1: Preprocess and visualize data**"
   ]
  },
  {
   "cell_type": "code",
   "execution_count": 40,
   "id": "c049744e",
   "metadata": {},
   "outputs": [
    {
     "data": {
      "text/plain": [
       "frontend_id        0\n",
       "frequency_sales    0\n",
       "frequency_add      0\n",
       "recency            0\n",
       "nmv                0\n",
       "dtype: int64"
      ]
     },
     "execution_count": 40,
     "metadata": {},
     "output_type": "execute_result"
    }
   ],
   "source": [
    "df.isnull().sum()"
   ]
  },
  {
   "cell_type": "code",
   "execution_count": 91,
   "id": "5b7c0e57",
   "metadata": {},
   "outputs": [
    {
     "data": {
      "image/png": "[encoded data removed]",
      "text/plain": [
       "<Figure size 1440x1080 with 1 Axes>"
      ]
     },
     "metadata": {
      "needs_background": "light"
     },
     "output_type": "display_data"
    },
    {
     "data": {
      "image/png": "[encoded data removed]",
      "text/plain": [
       "<Figure size 1440x1080 with 1 Axes>"
      ]
     },
     "metadata": {
      "needs_background": "light"
     },
     "output_type": "display_data"
    },
    {
     "data": {
      "image/png": "[encoded data removed]",
      "text/plain": [
       "<Figure size 1440x1080 with 1 Axes>"
      ]
     },
     "metadata": {
      "needs_background": "light"
     },
     "output_type": "display_data"
    },
    {
     "data": {
      "image/png": "[encoded data removed]",
      "text/plain": [
       "<Figure size 1440x1080 with 1 Axes>"
      ]
     },
     "metadata": {
      "needs_background": "light"
     },
     "output_type": "display_data"
    }
   ],
   "source": [
    "# Visualize numberic data: \n",
    "\n",
    "def visualize_boxplot(column,fig): \n",
    "    plt.figure(figsize = (20,15))\n",
    "    plt.subplot(4,2,fig)\n",
    "    plt.title(column+' Boxplot Histogram')\n",
    "    sns.boxplot(df[column],palette='magma')\n",
    "\n",
    "    \n",
    "visualize_boxplot('frequency_sales',1)\n",
    "visualize_boxplot('frequency_add',2)\n",
    "visualize_boxplot('recency',3)\n",
    "visualize_boxplot('nmv',4)"
   ]
  },
  {
   "cell_type": "markdown",
   "id": "32dea9aa",
   "metadata": {},
   "source": [
    "**Comments:**\n",
    "- Seems that each dimension has many outliers, because we get data of all customers who maybe have add to carts but not sales. \n",
    "- We will not remove outliers, since we score each customer_id based on their performance. If we remove, we will missing many customers and the clustering will be underrated "
   ]
  },
  {
   "cell_type": "markdown",
   "id": "c974748b",
   "metadata": {},
   "source": [
    "**Step 2: Apply K-Means model**"
   ]
  },
  {
   "cell_type": "code",
   "execution_count": 49,
   "id": "72525205",
   "metadata": {},
   "outputs": [],
   "source": [
    "from sklearn.model_selection import train_test_split\n",
    "from sklearn.cluster import KMeans\n",
    "import warnings\n",
    "warnings.filterwarnings('ignore')\n",
    "\n"
   ]
  },
  {
   "cell_type": "markdown",
   "id": "d09d75e5-4d7f-4a36-9d5b-e281f3059e36",
   "metadata": {},
   "source": [
    "1. Choosing K for model"
   ]
  },
  {
   "cell_type": "code",
   "execution_count": 87,
   "id": "63c69534",
   "metadata": {},
   "outputs": [],
   "source": [
    "# We try and apply each value of K in the model, and calculate the SSE (inertia_) at that K. \n",
    "# Then we visualize and decide which K is potential based on the Elbow method. \n",
    "\n",
    "def chose_k(feature): \n",
    "    sse={}\n",
    "    df_main = df[[feature]]\n",
    "    for k in range(1,10):\n",
    "        k_mean = KMeans(n_clusters=k,init=\"k-means++\",max_iter=1000).fit(df_main)\n",
    "        df_main['cluster']= k_mean.labels_ \n",
    "        sse[k]=k_mean.inertia_    \n",
    "    plt.figure(figsize=(8,3))\n",
    "    plt.plot(list(sse.keys()),list(sse.values()))\n",
    "    plt.xlabel(feature+' Number of cluster')\n",
    "    \n",
    "    plt.show()"
   ]
  },
  {
   "cell_type": "code",
   "execution_count": 92,
   "id": "9c14e39d",
   "metadata": {},
   "outputs": [
    {
     "data": {
      "image/png": "[encoded data removed]",
      "text/plain": [
       "<Figure size 576x216 with 1 Axes>"
      ]
     },
     "metadata": {
      "needs_background": "light"
     },
     "output_type": "display_data"
    },
    {
     "data": {
      "image/png": "[encoded data removed]",
      "text/plain": [
       "<Figure size 576x216 with 1 Axes>"
      ]
     },
     "metadata": {
      "needs_background": "light"
     },
     "output_type": "display_data"
    },
    {
     "data": {
      "image/png": "[encoded data removed]",
      "text/plain": [
       "<Figure size 576x216 with 1 Axes>"
      ]
     },
     "metadata": {
      "needs_background": "light"
     },
     "output_type": "display_data"
    },
    {
     "data": {
      "image/png": "[encoded data removed]",
      "text/plain": [
       "<Figure size 576x216 with 1 Axes>"
      ]
     },
     "metadata": {
      "needs_background": "light"
     },
     "output_type": "display_data"
    }
   ],
   "source": [
    "chose_k('frequency_sales')\n",
    "chose_k('frequency_add')\n",
    "chose_k('recency')\n",
    "chose_k('nmv')"
   ]
  },
  {
   "cell_type": "markdown",
   "id": "e4c5a1bb-795b-49cd-8438-53f142fb5a55",
   "metadata": {},
   "source": [
    "**Comments:** \n",
    "\n",
    "Base on the Elbow method, we will choose the K for each feature as below: \n",
    "- Frequency_sales: k = 5\n",
    "- Frequency_add: k = 5 \n",
    "- Recency: k = 5\n",
    "- NMV: k = 5"
   ]
  },
  {
   "cell_type": "markdown",
   "id": "f9c92203-91e4-4f1c-bda1-6307f072a81f",
   "metadata": {},
   "source": [
    "2. Apply K-Means with K=5 to all feature"
   ]
  },
  {
   "cell_type": "code",
   "execution_count": 88,
   "id": "a8587c30-d423-450b-90e4-49a080fe9669",
   "metadata": {},
   "outputs": [],
   "source": [
    "def apply_model(feature):\n",
    "    k_means= KMeans(n_clusters = 5, init = 'k-means++')\n",
    "    df[feature+' cluster'] = k_means.fit_predict (df[[feature]])"
   ]
  },
  {
   "cell_type": "code",
   "execution_count": 89,
   "id": "46e1229d-0b02-402c-a142-8a98716e1e99",
   "metadata": {},
   "outputs": [],
   "source": [
    "apply_model('frequency_sales')\n",
    "apply_model('frequency_add')\n",
    "apply_model('recency')\n",
    "apply_model('nmv')"
   ]
  },
  {
   "cell_type": "code",
   "execution_count": 97,
   "id": "51887886-48ce-46d5-b15d-fda35ca39869",
   "metadata": {},
   "outputs": [
    {
     "data": {
      "text/html": [
       "<div>\n",
       "<style scoped>\n",
       "    .dataframe tbody tr th:only-of-type {\n",
       "        vertical-align: middle;\n",
       "    }\n",
       "\n",
       "    .dataframe tbody tr th {\n",
       "        vertical-align: top;\n",
       "    }\n",
       "\n",
       "    .dataframe thead th {\n",
       "        text-align: right;\n",
       "    }\n",
       "</style>\n",
       "<table border=\"1\" class=\"dataframe\">\n",
       "  <thead>\n",
       "    <tr style=\"text-align: right;\">\n",
       "      <th></th>\n",
       "      <th>frontend_id</th>\n",
       "      <th>frequency_sales</th>\n",
       "      <th>frequency_add</th>\n",
       "      <th>recency</th>\n",
       "      <th>nmv</th>\n",
       "      <th>frequency_sales cluster</th>\n",
       "      <th>frequency_add cluster</th>\n",
       "      <th>recency cluster</th>\n",
       "      <th>nmv cluster</th>\n",
       "    </tr>\n",
       "  </thead>\n",
       "  <tbody>\n",
       "    <tr>\n",
       "      <th>0</th>\n",
       "      <td>14341885</td>\n",
       "      <td>0</td>\n",
       "      <td>36</td>\n",
       "      <td>6</td>\n",
       "      <td>0.0</td>\n",
       "      <td>0</td>\n",
       "      <td>0</td>\n",
       "      <td>1</td>\n",
       "      <td>2</td>\n",
       "    </tr>\n",
       "    <tr>\n",
       "      <th>1</th>\n",
       "      <td>7482651</td>\n",
       "      <td>0</td>\n",
       "      <td>35</td>\n",
       "      <td>2</td>\n",
       "      <td>0.0</td>\n",
       "      <td>0</td>\n",
       "      <td>0</td>\n",
       "      <td>4</td>\n",
       "      <td>2</td>\n",
       "    </tr>\n",
       "    <tr>\n",
       "      <th>2</th>\n",
       "      <td>8413145</td>\n",
       "      <td>0</td>\n",
       "      <td>35</td>\n",
       "      <td>4</td>\n",
       "      <td>0.0</td>\n",
       "      <td>0</td>\n",
       "      <td>0</td>\n",
       "      <td>1</td>\n",
       "      <td>2</td>\n",
       "    </tr>\n",
       "    <tr>\n",
       "      <th>3</th>\n",
       "      <td>7058197</td>\n",
       "      <td>0</td>\n",
       "      <td>35</td>\n",
       "      <td>8</td>\n",
       "      <td>0.0</td>\n",
       "      <td>0</td>\n",
       "      <td>0</td>\n",
       "      <td>2</td>\n",
       "      <td>2</td>\n",
       "    </tr>\n",
       "    <tr>\n",
       "      <th>4</th>\n",
       "      <td>882018</td>\n",
       "      <td>0</td>\n",
       "      <td>37</td>\n",
       "      <td>3</td>\n",
       "      <td>0.0</td>\n",
       "      <td>0</td>\n",
       "      <td>0</td>\n",
       "      <td>1</td>\n",
       "      <td>2</td>\n",
       "    </tr>\n",
       "    <tr>\n",
       "      <th>...</th>\n",
       "      <td>...</td>\n",
       "      <td>...</td>\n",
       "      <td>...</td>\n",
       "      <td>...</td>\n",
       "      <td>...</td>\n",
       "      <td>...</td>\n",
       "      <td>...</td>\n",
       "      <td>...</td>\n",
       "      <td>...</td>\n",
       "    </tr>\n",
       "    <tr>\n",
       "      <th>17852</th>\n",
       "      <td>7064637</td>\n",
       "      <td>33</td>\n",
       "      <td>96</td>\n",
       "      <td>2</td>\n",
       "      <td>133258626.4</td>\n",
       "      <td>3</td>\n",
       "      <td>4</td>\n",
       "      <td>4</td>\n",
       "      <td>4</td>\n",
       "    </tr>\n",
       "    <tr>\n",
       "      <th>17853</th>\n",
       "      <td>12039107</td>\n",
       "      <td>90</td>\n",
       "      <td>113</td>\n",
       "      <td>1</td>\n",
       "      <td>137291528.0</td>\n",
       "      <td>2</td>\n",
       "      <td>4</td>\n",
       "      <td>4</td>\n",
       "      <td>4</td>\n",
       "    </tr>\n",
       "    <tr>\n",
       "      <th>17854</th>\n",
       "      <td>5614930</td>\n",
       "      <td>113</td>\n",
       "      <td>111</td>\n",
       "      <td>3</td>\n",
       "      <td>152101152.0</td>\n",
       "      <td>4</td>\n",
       "      <td>4</td>\n",
       "      <td>1</td>\n",
       "      <td>4</td>\n",
       "    </tr>\n",
       "    <tr>\n",
       "      <th>17855</th>\n",
       "      <td>7215746</td>\n",
       "      <td>10</td>\n",
       "      <td>90</td>\n",
       "      <td>2</td>\n",
       "      <td>166411700.0</td>\n",
       "      <td>1</td>\n",
       "      <td>4</td>\n",
       "      <td>4</td>\n",
       "      <td>4</td>\n",
       "    </tr>\n",
       "    <tr>\n",
       "      <th>17856</th>\n",
       "      <td>17538152</td>\n",
       "      <td>75</td>\n",
       "      <td>109</td>\n",
       "      <td>1</td>\n",
       "      <td>200989888.0</td>\n",
       "      <td>2</td>\n",
       "      <td>4</td>\n",
       "      <td>4</td>\n",
       "      <td>4</td>\n",
       "    </tr>\n",
       "  </tbody>\n",
       "</table>\n",
       "<p>17857 rows × 9 columns</p>\n",
       "</div>"
      ],
      "text/plain": [
       "       frontend_id  frequency_sales  frequency_add  recency          nmv  \\\n",
       "0         14341885                0             36        6          0.0   \n",
       "1          7482651                0             35        2          0.0   \n",
       "2          8413145                0             35        4          0.0   \n",
       "3          7058197                0             35        8          0.0   \n",
       "4           882018                0             37        3          0.0   \n",
       "...            ...              ...            ...      ...          ...   \n",
       "17852      7064637               33             96        2  133258626.4   \n",
       "17853     12039107               90            113        1  137291528.0   \n",
       "17854      5614930              113            111        3  152101152.0   \n",
       "17855      7215746               10             90        2  166411700.0   \n",
       "17856     17538152               75            109        1  200989888.0   \n",
       "\n",
       "       frequency_sales cluster  frequency_add cluster  recency cluster  \\\n",
       "0                            0                      0                1   \n",
       "1                            0                      0                4   \n",
       "2                            0                      0                1   \n",
       "3                            0                      0                2   \n",
       "4                            0                      0                1   \n",
       "...                        ...                    ...              ...   \n",
       "17852                        3                      4                4   \n",
       "17853                        2                      4                4   \n",
       "17854                        4                      4                1   \n",
       "17855                        1                      4                4   \n",
       "17856                        2                      4                4   \n",
       "\n",
       "       nmv cluster  \n",
       "0                2  \n",
       "1                2  \n",
       "2                2  \n",
       "3                2  \n",
       "4                2  \n",
       "...            ...  \n",
       "17852            4  \n",
       "17853            4  \n",
       "17854            4  \n",
       "17855            4  \n",
       "17856            4  \n",
       "\n",
       "[17857 rows x 9 columns]"
      ]
     },
     "execution_count": 97,
     "metadata": {},
     "output_type": "execute_result"
    }
   ],
   "source": [
    "df"
   ]
  },
  {
   "cell_type": "markdown",
   "id": "8d75b32c-283e-4ebe-9470-c3d59693c42c",
   "metadata": {},
   "source": [
    "3. Order these cluster following the feature values. "
   ]
  },
  {
   "cell_type": "code",
   "execution_count": 163,
   "id": "d468f7eb-7386-4c18-963f-15cdd9dd157d",
   "metadata": {},
   "outputs": [],
   "source": [
    "#Because when k-means clustering, its cluster index is random, so we need to sort the cluster index following the value \n",
    "#in that cluster columns. \n",
    "\n",
    "def order_cluster(cluster_field_name, value_order_field_name, ascending, inplace=True): \n",
    "    new_cluster_field_name = 'new '+cluster_field_name \n",
    "    df_new = df.groupby(cluster_field_name)[value_order_field_name].mean().reset_index()\n",
    "    df_new = df_new.sort_values(by=value_order_field_name,ascending=ascending).reset_index(drop = True)\n",
    "    df_new['index']=df_new.index\n",
    "    df_final = pd.merge(df,df_new[[cluster_field_name,'index']], on=cluster_field_name)\n",
    "    df_final = df_final.drop([cluster_field_name], axis =1 )\n",
    "    df_final = df_final.rename(columns={'index':cluster_field_name})\n",
    "    return df_final"
   ]
  },
  {
   "cell_type": "code",
   "execution_count": 171,
   "id": "b85b2a25-eb93-49a0-891d-750d28c58b3a",
   "metadata": {},
   "outputs": [
    {
     "data": {
      "text/html": [
       "<div>\n",
       "<style scoped>\n",
       "    .dataframe tbody tr th:only-of-type {\n",
       "        vertical-align: middle;\n",
       "    }\n",
       "\n",
       "    .dataframe tbody tr th {\n",
       "        vertical-align: top;\n",
       "    }\n",
       "\n",
       "    .dataframe thead th {\n",
       "        text-align: right;\n",
       "    }\n",
       "</style>\n",
       "<table border=\"1\" class=\"dataframe\">\n",
       "  <thead>\n",
       "    <tr style=\"text-align: right;\">\n",
       "      <th></th>\n",
       "      <th>frontend_id</th>\n",
       "      <th>frequency_sales</th>\n",
       "      <th>frequency_add</th>\n",
       "      <th>recency</th>\n",
       "      <th>nmv</th>\n",
       "      <th>frequency_sales cluster</th>\n",
       "      <th>frequency_add cluster</th>\n",
       "      <th>nmv cluster</th>\n",
       "      <th>recency cluster</th>\n",
       "    </tr>\n",
       "  </thead>\n",
       "  <tbody>\n",
       "    <tr>\n",
       "      <th>0</th>\n",
       "      <td>14341885</td>\n",
       "      <td>0</td>\n",
       "      <td>36</td>\n",
       "      <td>6</td>\n",
       "      <td>0.0</td>\n",
       "      <td>0</td>\n",
       "      <td>1</td>\n",
       "      <td>0</td>\n",
       "      <td>3</td>\n",
       "    </tr>\n",
       "    <tr>\n",
       "      <th>1</th>\n",
       "      <td>8413145</td>\n",
       "      <td>0</td>\n",
       "      <td>35</td>\n",
       "      <td>4</td>\n",
       "      <td>0.0</td>\n",
       "      <td>0</td>\n",
       "      <td>1</td>\n",
       "      <td>0</td>\n",
       "      <td>3</td>\n",
       "    </tr>\n",
       "    <tr>\n",
       "      <th>2</th>\n",
       "      <td>882018</td>\n",
       "      <td>0</td>\n",
       "      <td>37</td>\n",
       "      <td>3</td>\n",
       "      <td>0.0</td>\n",
       "      <td>0</td>\n",
       "      <td>1</td>\n",
       "      <td>0</td>\n",
       "      <td>3</td>\n",
       "    </tr>\n",
       "    <tr>\n",
       "      <th>3</th>\n",
       "      <td>2144839</td>\n",
       "      <td>0</td>\n",
       "      <td>35</td>\n",
       "      <td>3</td>\n",
       "      <td>0.0</td>\n",
       "      <td>0</td>\n",
       "      <td>1</td>\n",
       "      <td>0</td>\n",
       "      <td>3</td>\n",
       "    </tr>\n",
       "    <tr>\n",
       "      <th>4</th>\n",
       "      <td>5805305</td>\n",
       "      <td>0</td>\n",
       "      <td>37</td>\n",
       "      <td>3</td>\n",
       "      <td>0.0</td>\n",
       "      <td>0</td>\n",
       "      <td>1</td>\n",
       "      <td>0</td>\n",
       "      <td>3</td>\n",
       "    </tr>\n",
       "  </tbody>\n",
       "</table>\n",
       "</div>"
      ],
      "text/plain": [
       "   frontend_id  frequency_sales  frequency_add  recency  nmv  \\\n",
       "0     14341885                0             36        6  0.0   \n",
       "1      8413145                0             35        4  0.0   \n",
       "2       882018                0             37        3  0.0   \n",
       "3      2144839                0             35        3  0.0   \n",
       "4      5805305                0             37        3  0.0   \n",
       "\n",
       "   frequency_sales cluster  frequency_add cluster  nmv cluster  \\\n",
       "0                        0                      1            0   \n",
       "1                        0                      1            0   \n",
       "2                        0                      1            0   \n",
       "3                        0                      1            0   \n",
       "4                        0                      1            0   \n",
       "\n",
       "   recency cluster  \n",
       "0                3  \n",
       "1                3  \n",
       "2                3  \n",
       "3                3  \n",
       "4                3  "
      ]
     },
     "execution_count": 171,
     "metadata": {},
     "output_type": "execute_result"
    }
   ],
   "source": [
    "df = order_cluster('frequency_sales cluster', 'frequency_sales', True)\n",
    "df = order_cluster('frequency_add cluster', 'frequency_add', True)\n",
    "df = order_cluster('nmv cluster', 'nmv', True)\n",
    "df = order_cluster('recency cluster', 'recency', False)\n",
    "\n",
    "df.head()"
   ]
  },
  {
   "cell_type": "code",
   "execution_count": 174,
   "id": "b2d9c5b2-d08b-44e4-9bff-71eae11b861e",
   "metadata": {},
   "outputs": [
    {
     "data": {
      "text/html": [
       "<div>\n",
       "<style scoped>\n",
       "    .dataframe tbody tr th:only-of-type {\n",
       "        vertical-align: middle;\n",
       "    }\n",
       "\n",
       "    .dataframe tbody tr th {\n",
       "        vertical-align: top;\n",
       "    }\n",
       "\n",
       "    .dataframe thead th {\n",
       "        text-align: right;\n",
       "    }\n",
       "</style>\n",
       "<table border=\"1\" class=\"dataframe\">\n",
       "  <thead>\n",
       "    <tr style=\"text-align: right;\">\n",
       "      <th></th>\n",
       "      <th>count</th>\n",
       "      <th>mean</th>\n",
       "      <th>std</th>\n",
       "      <th>min</th>\n",
       "      <th>25%</th>\n",
       "      <th>50%</th>\n",
       "      <th>75%</th>\n",
       "      <th>max</th>\n",
       "    </tr>\n",
       "    <tr>\n",
       "      <th>nmv cluster</th>\n",
       "      <th></th>\n",
       "      <th></th>\n",
       "      <th></th>\n",
       "      <th></th>\n",
       "      <th></th>\n",
       "      <th></th>\n",
       "      <th></th>\n",
       "      <th></th>\n",
       "    </tr>\n",
       "  </thead>\n",
       "  <tbody>\n",
       "    <tr>\n",
       "      <th>0</th>\n",
       "      <td>13872.0</td>\n",
       "      <td>1.251510e+06</td>\n",
       "      <td>1.223621e+06</td>\n",
       "      <td>0.00</td>\n",
       "      <td>0.0</td>\n",
       "      <td>958300.0</td>\n",
       "      <td>2.074900e+06</td>\n",
       "      <td>4377500.0</td>\n",
       "    </tr>\n",
       "    <tr>\n",
       "      <th>1</th>\n",
       "      <td>3060.0</td>\n",
       "      <td>7.511938e+06</td>\n",
       "      <td>2.528617e+06</td>\n",
       "      <td>4378000.00</td>\n",
       "      <td>5364726.0</td>\n",
       "      <td>6878500.0</td>\n",
       "      <td>9.216950e+06</td>\n",
       "      <td>13950300.0</td>\n",
       "    </tr>\n",
       "    <tr>\n",
       "      <th>2</th>\n",
       "      <td>679.0</td>\n",
       "      <td>2.044936e+07</td>\n",
       "      <td>4.840481e+06</td>\n",
       "      <td>14001187.00</td>\n",
       "      <td>16211732.5</td>\n",
       "      <td>19380340.0</td>\n",
       "      <td>2.407678e+07</td>\n",
       "      <td>32135341.0</td>\n",
       "    </tr>\n",
       "    <tr>\n",
       "      <th>3</th>\n",
       "      <td>231.0</td>\n",
       "      <td>4.385752e+07</td>\n",
       "      <td>9.211559e+06</td>\n",
       "      <td>32215800.00</td>\n",
       "      <td>36485905.0</td>\n",
       "      <td>42118020.0</td>\n",
       "      <td>4.963941e+07</td>\n",
       "      <td>79261158.0</td>\n",
       "    </tr>\n",
       "    <tr>\n",
       "      <th>4</th>\n",
       "      <td>15.0</td>\n",
       "      <td>1.186398e+08</td>\n",
       "      <td>3.341386e+07</td>\n",
       "      <td>83648640.99</td>\n",
       "      <td>95719300.0</td>\n",
       "      <td>102454970.0</td>\n",
       "      <td>1.352751e+08</td>\n",
       "      <td>200989888.0</td>\n",
       "    </tr>\n",
       "  </tbody>\n",
       "</table>\n",
       "</div>"
      ],
      "text/plain": [
       "               count          mean           std          min         25%  \\\n",
       "nmv cluster                                                                 \n",
       "0            13872.0  1.251510e+06  1.223621e+06         0.00         0.0   \n",
       "1             3060.0  7.511938e+06  2.528617e+06   4378000.00   5364726.0   \n",
       "2              679.0  2.044936e+07  4.840481e+06  14001187.00  16211732.5   \n",
       "3              231.0  4.385752e+07  9.211559e+06  32215800.00  36485905.0   \n",
       "4               15.0  1.186398e+08  3.341386e+07  83648640.99  95719300.0   \n",
       "\n",
       "                     50%           75%          max  \n",
       "nmv cluster                                          \n",
       "0               958300.0  2.074900e+06    4377500.0  \n",
       "1              6878500.0  9.216950e+06   13950300.0  \n",
       "2             19380340.0  2.407678e+07   32135341.0  \n",
       "3             42118020.0  4.963941e+07   79261158.0  \n",
       "4            102454970.0  1.352751e+08  200989888.0  "
      ]
     },
     "execution_count": 174,
     "metadata": {},
     "output_type": "execute_result"
    }
   ],
   "source": [
    "df.groupby('nmv cluster')['nmv'].describe()"
   ]
  },
  {
   "cell_type": "code",
   "execution_count": 175,
   "id": "92628da9-0964-431e-8c52-4fbaea480375",
   "metadata": {},
   "outputs": [],
   "source": [
    "df['overall_score'] = df['frequency_sales cluster'] + df['frequency_add cluster'] + df['recency cluster'] + df['nmv cluster']"
   ]
  },
  {
   "cell_type": "code",
   "execution_count": 179,
   "id": "22e4868a-e77a-4016-983b-ac10c11d840a",
   "metadata": {},
   "outputs": [
    {
     "data": {
      "text/plain": [
       "overall_score\n",
       "1      790\n",
       "2     1672\n",
       "3     2910\n",
       "4     3615\n",
       "5     3028\n",
       "6     2274\n",
       "7     1516\n",
       "8      899\n",
       "9      484\n",
       "10     272\n",
       "11     168\n",
       "12     125\n",
       "13      69\n",
       "14      23\n",
       "15      12\n",
       "Name: frontend_id, dtype: int64"
      ]
     },
     "execution_count": 179,
     "metadata": {},
     "output_type": "execute_result"
    }
   ],
   "source": [
    "df.groupby('overall_score')['frontend_id'].count()"
   ]
  },
  {
   "cell_type": "code",
   "execution_count": 184,
   "id": "9f2aad91-1e65-4d01-8e01-b1ca4a3ef78a",
   "metadata": {},
   "outputs": [
    {
     "data": {
      "text/html": [
       "<div>\n",
       "<style scoped>\n",
       "    .dataframe tbody tr th:only-of-type {\n",
       "        vertical-align: middle;\n",
       "    }\n",
       "\n",
       "    .dataframe tbody tr th {\n",
       "        vertical-align: top;\n",
       "    }\n",
       "\n",
       "    .dataframe thead th {\n",
       "        text-align: right;\n",
       "    }\n",
       "</style>\n",
       "<table border=\"1\" class=\"dataframe\">\n",
       "  <thead>\n",
       "    <tr style=\"text-align: right;\">\n",
       "      <th></th>\n",
       "      <th>frequency_sales</th>\n",
       "      <th>frequency_add</th>\n",
       "      <th>recency</th>\n",
       "      <th>nmv</th>\n",
       "      <th>frontend_id</th>\n",
       "    </tr>\n",
       "    <tr>\n",
       "      <th>overall_score</th>\n",
       "      <th></th>\n",
       "      <th></th>\n",
       "      <th></th>\n",
       "      <th></th>\n",
       "      <th></th>\n",
       "    </tr>\n",
       "  </thead>\n",
       "  <tbody>\n",
       "    <tr>\n",
       "      <th>15</th>\n",
       "      <td>119.5</td>\n",
       "      <td>110.0</td>\n",
       "      <td>1.0</td>\n",
       "      <td>73035128.0</td>\n",
       "      <td>12</td>\n",
       "    </tr>\n",
       "    <tr>\n",
       "      <th>14</th>\n",
       "      <td>50.0</td>\n",
       "      <td>99.0</td>\n",
       "      <td>1.0</td>\n",
       "      <td>46313251.0</td>\n",
       "      <td>23</td>\n",
       "    </tr>\n",
       "    <tr>\n",
       "      <th>13</th>\n",
       "      <td>43.0</td>\n",
       "      <td>89.0</td>\n",
       "      <td>1.0</td>\n",
       "      <td>28994957.0</td>\n",
       "      <td>69</td>\n",
       "    </tr>\n",
       "    <tr>\n",
       "      <th>12</th>\n",
       "      <td>23.0</td>\n",
       "      <td>82.0</td>\n",
       "      <td>1.0</td>\n",
       "      <td>25489792.0</td>\n",
       "      <td>125</td>\n",
       "    </tr>\n",
       "    <tr>\n",
       "      <th>11</th>\n",
       "      <td>16.0</td>\n",
       "      <td>70.0</td>\n",
       "      <td>1.0</td>\n",
       "      <td>21860689.5</td>\n",
       "      <td>168</td>\n",
       "    </tr>\n",
       "    <tr>\n",
       "      <th>10</th>\n",
       "      <td>14.0</td>\n",
       "      <td>54.0</td>\n",
       "      <td>2.0</td>\n",
       "      <td>15697815.0</td>\n",
       "      <td>272</td>\n",
       "    </tr>\n",
       "    <tr>\n",
       "      <th>9</th>\n",
       "      <td>10.0</td>\n",
       "      <td>51.0</td>\n",
       "      <td>2.0</td>\n",
       "      <td>10067674.5</td>\n",
       "      <td>484</td>\n",
       "    </tr>\n",
       "    <tr>\n",
       "      <th>8</th>\n",
       "      <td>8.0</td>\n",
       "      <td>48.0</td>\n",
       "      <td>2.0</td>\n",
       "      <td>5956370.0</td>\n",
       "      <td>899</td>\n",
       "    </tr>\n",
       "    <tr>\n",
       "      <th>7</th>\n",
       "      <td>6.0</td>\n",
       "      <td>45.0</td>\n",
       "      <td>2.0</td>\n",
       "      <td>3455639.0</td>\n",
       "      <td>1516</td>\n",
       "    </tr>\n",
       "    <tr>\n",
       "      <th>6</th>\n",
       "      <td>5.0</td>\n",
       "      <td>39.0</td>\n",
       "      <td>2.0</td>\n",
       "      <td>2406050.5</td>\n",
       "      <td>2274</td>\n",
       "    </tr>\n",
       "    <tr>\n",
       "      <th>5</th>\n",
       "      <td>4.0</td>\n",
       "      <td>33.0</td>\n",
       "      <td>3.0</td>\n",
       "      <td>1639183.0</td>\n",
       "      <td>3028</td>\n",
       "    </tr>\n",
       "    <tr>\n",
       "      <th>4</th>\n",
       "      <td>2.0</td>\n",
       "      <td>27.0</td>\n",
       "      <td>4.0</td>\n",
       "      <td>948867.0</td>\n",
       "      <td>3615</td>\n",
       "    </tr>\n",
       "    <tr>\n",
       "      <th>3</th>\n",
       "      <td>2.0</td>\n",
       "      <td>25.0</td>\n",
       "      <td>6.0</td>\n",
       "      <td>652950.0</td>\n",
       "      <td>2910</td>\n",
       "    </tr>\n",
       "    <tr>\n",
       "      <th>2</th>\n",
       "      <td>2.0</td>\n",
       "      <td>24.0</td>\n",
       "      <td>10.0</td>\n",
       "      <td>520300.0</td>\n",
       "      <td>1672</td>\n",
       "    </tr>\n",
       "    <tr>\n",
       "      <th>1</th>\n",
       "      <td>1.0</td>\n",
       "      <td>22.0</td>\n",
       "      <td>15.0</td>\n",
       "      <td>286500.0</td>\n",
       "      <td>790</td>\n",
       "    </tr>\n",
       "  </tbody>\n",
       "</table>\n",
       "</div>"
      ],
      "text/plain": [
       "               frequency_sales  frequency_add  recency         nmv  \\\n",
       "overall_score                                                        \n",
       "15                       119.5          110.0      1.0  73035128.0   \n",
       "14                        50.0           99.0      1.0  46313251.0   \n",
       "13                        43.0           89.0      1.0  28994957.0   \n",
       "12                        23.0           82.0      1.0  25489792.0   \n",
       "11                        16.0           70.0      1.0  21860689.5   \n",
       "10                        14.0           54.0      2.0  15697815.0   \n",
       "9                         10.0           51.0      2.0  10067674.5   \n",
       "8                          8.0           48.0      2.0   5956370.0   \n",
       "7                          6.0           45.0      2.0   3455639.0   \n",
       "6                          5.0           39.0      2.0   2406050.5   \n",
       "5                          4.0           33.0      3.0   1639183.0   \n",
       "4                          2.0           27.0      4.0    948867.0   \n",
       "3                          2.0           25.0      6.0    652950.0   \n",
       "2                          2.0           24.0     10.0    520300.0   \n",
       "1                          1.0           22.0     15.0    286500.0   \n",
       "\n",
       "               frontend_id  \n",
       "overall_score               \n",
       "15                      12  \n",
       "14                      23  \n",
       "13                      69  \n",
       "12                     125  \n",
       "11                     168  \n",
       "10                     272  \n",
       "9                      484  \n",
       "8                      899  \n",
       "7                     1516  \n",
       "6                     2274  \n",
       "5                     3028  \n",
       "4                     3615  \n",
       "3                     2910  \n",
       "2                     1672  \n",
       "1                      790  "
      ]
     },
     "execution_count": 184,
     "metadata": {},
     "output_type": "execute_result"
    }
   ],
   "source": [
    "df_mean = df.groupby('overall_score')[['frequency_sales','frequency_add','recency','nmv']].median()\n",
    "df_count = df.groupby('overall_score')[['frontend_id']].count()\n",
    "df_new = pd.merge(df_mean,df_count, on = 'overall_score')\n",
    "df_new.sort_values(by='overall_score',ascending=False)"
   ]
  },
  {
   "cell_type": "markdown",
   "id": "54f93c1d-ca75-4710-9d38-dc7d8ca93ec2",
   "metadata": {},
   "source": [
    "- Above table is the final table that shows the median and the number of customers per score.\n",
    "- With this table, business can define which overall score that customers have to take action on them."
   ]
  },
  {
   "cell_type": "code",
   "execution_count": null,
   "id": "af2be47f-44e1-41fa-a051-e0d858eefe76",
   "metadata": {},
   "outputs": [],
   "source": [
    "\n",
    "\n",
    "\n",
    "\n",
    "\n",
    "\n",
    "\n",
    "\n"
   ]
  },
  {
   "cell_type": "code",
   "execution_count": null,
   "id": "5cc2c980-8289-405c-9129-6cd939fcc688",
   "metadata": {},
   "outputs": [],
   "source": []
  },
  {
   "cell_type": "code",
   "execution_count": null,
   "id": "0e363ed1-4125-4533-969e-60546f2a3141",
   "metadata": {},
   "outputs": [],
   "source": [
    "RFM-KMeans.ipynbRFM-KMeans.ipynb"
   ]
  }
 ],
 "metadata": {
  "kernelspec": {
   "display_name": "Python 3 (ipykernel)",
   "language": "python",
   "name": "python3"
  },
  "language_info": {
   "codemirror_mode": {
    "name": "ipython",
    "version": 3
   },
   "file_extension": ".py",
   "mimetype": "text/x-python",
   "name": "python",
   "nbconvert_exporter": "python",
   "pygments_lexer": "ipython3",
   "version": "3.9.7"
  }
 },
 "nbformat": 4,
 "nbformat_minor": 5
}
